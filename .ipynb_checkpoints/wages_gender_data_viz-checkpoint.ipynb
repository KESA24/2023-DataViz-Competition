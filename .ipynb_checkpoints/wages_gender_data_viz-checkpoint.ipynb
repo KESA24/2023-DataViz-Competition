{
 "cells": [
  {
   "cell_type": "code",
   "execution_count": 1,
   "id": "da0be8d7",
   "metadata": {},
   "outputs": [],
   "source": [
    "import pandas as pd"
   ]
  },
  {
   "cell_type": "code",
   "execution_count": 2,
   "id": "249a2a96",
   "metadata": {},
   "outputs": [],
   "source": [
    "raw_data = pd.read_excel('final_analysis_data.xlsx')\n",
    "final_data = pd.read_excel('28-Night-FINAL_DATASET.xlsx')"
   ]
  },
  {
   "cell_type": "code",
   "execution_count": 4,
   "id": "e71ce643",
   "metadata": {},
   "outputs": [],
   "source": [
    "final_employtics = final_data[['hhid', 'PID', 'h2q3', 'age', 'h2q10', 's8q04', 's8q06', 's8q08', 's8q10', 's8q12',\n",
    "                               'education_levels', 'total_hours', 'hourly_wage', 'monthly_wage', 'numchild', 'gender','lw',\n",
    "                               'sec_cat', 'h8q19b_twoDigit', 'lmw', 'weight']]\n",
    "final_employtics = final_employtics.rename(columns={'h2q3': 'sex', 'h2q10': 'marital_status', 's8q04': 'waged_worker', \n",
    "                                                's8q06': 'business_owner', 's8q08': 'unpaid_hh_worker','s8q10': 'apprentice', \n",
    "                                                's8q12': 'hh_farm_worker','h8q19b_twoDigit': 'ISCO'})"
   ]
  },
  {
   "cell_type": "code",
   "execution_count": 5,
   "id": "460a56e9",
   "metadata": {},
   "outputs": [],
   "source": [
    "def employ_status(row):\n",
    "    if row['waged_worker'] ==1 or  row['business_owner'] == 1 or row['apprentice']==1 or row['unpaid_hh_worker']==1:\n",
    "        return 1\n",
    "    else:\n",
    "        return 0"
   ]
  },
  {
   "cell_type": "code",
   "execution_count": 6,
   "id": "e83178ac",
   "metadata": {},
   "outputs": [
    {
     "data": {
      "text/plain": [
       "(29034, 22)"
      ]
     },
     "execution_count": 6,
     "metadata": {},
     "output_type": "execute_result"
    }
   ],
   "source": [
    "final_employtics['employed'] = final_employtics.apply(lambda row: employ_status(row), axis=1)\n",
    "final_employtics.shape"
   ]
  },
  {
   "cell_type": "code",
   "execution_count": 7,
   "id": "383cdd3e",
   "metadata": {},
   "outputs": [
    {
     "data": {
      "text/plain": [
       "(5940, 23)"
      ]
     },
     "execution_count": 7,
     "metadata": {},
     "output_type": "execute_result"
    }
   ],
   "source": [
    "employed_pips = final_employtics[final_employtics['employed']== 1].copy()\n",
    "employed_pips['unique_person_id'] = employed_pips['hhid'].astype(str) + '_' + employed_pips['PID'].astype(str)\n",
    "employed_pips.shape"
   ]
  },
  {
   "cell_type": "code",
   "execution_count": 8,
   "id": "b8829e0d",
   "metadata": {},
   "outputs": [
    {
     "data": {
      "text/html": [
       "<div>\n",
       "<style scoped>\n",
       "    .dataframe tbody tr th:only-of-type {\n",
       "        vertical-align: middle;\n",
       "    }\n",
       "\n",
       "    .dataframe tbody tr th {\n",
       "        vertical-align: top;\n",
       "    }\n",
       "\n",
       "    .dataframe thead th {\n",
       "        text-align: right;\n",
       "    }\n",
       "</style>\n",
       "<table border=\"1\" class=\"dataframe\">\n",
       "  <thead>\n",
       "    <tr style=\"text-align: right;\">\n",
       "      <th></th>\n",
       "      <th>hhid</th>\n",
       "      <th>PID</th>\n",
       "      <th>sex</th>\n",
       "      <th>age</th>\n",
       "      <th>marital_status</th>\n",
       "      <th>waged_worker</th>\n",
       "      <th>business_owner</th>\n",
       "      <th>unpaid_hh_worker</th>\n",
       "      <th>apprentice</th>\n",
       "      <th>hh_farm_worker</th>\n",
       "      <th>...</th>\n",
       "      <th>numchild</th>\n",
       "      <th>gender</th>\n",
       "      <th>lw</th>\n",
       "      <th>sec_cat</th>\n",
       "      <th>ISCO</th>\n",
       "      <th>lmw</th>\n",
       "      <th>weight</th>\n",
       "      <th>employed</th>\n",
       "      <th>unique_person_id</th>\n",
       "      <th>Age_Grouping</th>\n",
       "    </tr>\n",
       "  </thead>\n",
       "  <tbody>\n",
       "    <tr>\n",
       "      <th>2</th>\n",
       "      <td>0007d1f1449242feb5a25429644fb991</td>\n",
       "      <td>2.0</td>\n",
       "      <td>2.0</td>\n",
       "      <td>24.0</td>\n",
       "      <td>5.0</td>\n",
       "      <td>1.0</td>\n",
       "      <td>2.0</td>\n",
       "      <td>2.0</td>\n",
       "      <td>2.0</td>\n",
       "      <td>1.0</td>\n",
       "      <td>...</td>\n",
       "      <td>2.0</td>\n",
       "      <td>1.0</td>\n",
       "      <td>NaN</td>\n",
       "      <td>4.0</td>\n",
       "      <td>23.0</td>\n",
       "      <td>NaN</td>\n",
       "      <td>2621.863747</td>\n",
       "      <td>1</td>\n",
       "      <td>0007d1f1449242feb5a25429644fb991_2.0</td>\n",
       "      <td>15-24</td>\n",
       "    </tr>\n",
       "    <tr>\n",
       "      <th>3</th>\n",
       "      <td>0007d1f1449242feb5a25429644fb991</td>\n",
       "      <td>2.0</td>\n",
       "      <td>2.0</td>\n",
       "      <td>24.0</td>\n",
       "      <td>5.0</td>\n",
       "      <td>1.0</td>\n",
       "      <td>2.0</td>\n",
       "      <td>2.0</td>\n",
       "      <td>2.0</td>\n",
       "      <td>1.0</td>\n",
       "      <td>...</td>\n",
       "      <td>7.0</td>\n",
       "      <td>1.0</td>\n",
       "      <td>NaN</td>\n",
       "      <td>4.0</td>\n",
       "      <td>23.0</td>\n",
       "      <td>NaN</td>\n",
       "      <td>2621.863747</td>\n",
       "      <td>1</td>\n",
       "      <td>0007d1f1449242feb5a25429644fb991_2.0</td>\n",
       "      <td>15-24</td>\n",
       "    </tr>\n",
       "  </tbody>\n",
       "</table>\n",
       "<p>2 rows × 24 columns</p>\n",
       "</div>"
      ],
      "text/plain": [
       "                               hhid  PID  sex   age  marital_status  \\\n",
       "2  0007d1f1449242feb5a25429644fb991  2.0  2.0  24.0             5.0   \n",
       "3  0007d1f1449242feb5a25429644fb991  2.0  2.0  24.0             5.0   \n",
       "\n",
       "   waged_worker  business_owner  unpaid_hh_worker  apprentice  hh_farm_worker  \\\n",
       "2           1.0             2.0               2.0         2.0             1.0   \n",
       "3           1.0             2.0               2.0         2.0             1.0   \n",
       "\n",
       "   ...  numchild  gender  lw  sec_cat  ISCO  lmw       weight  employed  \\\n",
       "2  ...       2.0     1.0 NaN      4.0  23.0  NaN  2621.863747         1   \n",
       "3  ...       7.0     1.0 NaN      4.0  23.0  NaN  2621.863747         1   \n",
       "\n",
       "                       unique_person_id  Age_Grouping  \n",
       "2  0007d1f1449242feb5a25429644fb991_2.0         15-24  \n",
       "3  0007d1f1449242feb5a25429644fb991_2.0         15-24  \n",
       "\n",
       "[2 rows x 24 columns]"
      ]
     },
     "execution_count": 8,
     "metadata": {},
     "output_type": "execute_result"
    }
   ],
   "source": [
    "bins= [0,15,25,35,45,55,65, 120]\n",
    "labels = ['1-14','15-24','25-34','35-44','45-54', '55-64', '65-119']\n",
    "employed_pips['Age_Grouping'] = pd.cut(employed_pips['age'], bins=bins, labels=labels, right=False)\n",
    "employed_pips.head(2)"
   ]
  },
  {
   "cell_type": "code",
   "execution_count": 16,
   "id": "0e041f18",
   "metadata": {},
   "outputs": [
    {
     "data": {
      "text/html": [
       "<div>\n",
       "<style scoped>\n",
       "    .dataframe tbody tr th:only-of-type {\n",
       "        vertical-align: middle;\n",
       "    }\n",
       "\n",
       "    .dataframe tbody tr th {\n",
       "        vertical-align: top;\n",
       "    }\n",
       "\n",
       "    .dataframe thead th {\n",
       "        text-align: right;\n",
       "    }\n",
       "</style>\n",
       "<table border=\"1\" class=\"dataframe\">\n",
       "  <thead>\n",
       "    <tr style=\"text-align: right;\">\n",
       "      <th></th>\n",
       "      <th></th>\n",
       "      <th>unique_person_id</th>\n",
       "    </tr>\n",
       "    <tr>\n",
       "      <th>Age_Grouping</th>\n",
       "      <th>sex</th>\n",
       "      <th></th>\n",
       "    </tr>\n",
       "  </thead>\n",
       "  <tbody>\n",
       "    <tr>\n",
       "      <th rowspan=\"2\" valign=\"top\">1-14</th>\n",
       "      <th>1.0</th>\n",
       "      <td>42</td>\n",
       "    </tr>\n",
       "    <tr>\n",
       "      <th>2.0</th>\n",
       "      <td>70</td>\n",
       "    </tr>\n",
       "    <tr>\n",
       "      <th rowspan=\"2\" valign=\"top\">15-24</th>\n",
       "      <th>1.0</th>\n",
       "      <td>804</td>\n",
       "    </tr>\n",
       "    <tr>\n",
       "      <th>2.0</th>\n",
       "      <td>436</td>\n",
       "    </tr>\n",
       "    <tr>\n",
       "      <th rowspan=\"2\" valign=\"top\">25-34</th>\n",
       "      <th>1.0</th>\n",
       "      <td>962</td>\n",
       "    </tr>\n",
       "    <tr>\n",
       "      <th>2.0</th>\n",
       "      <td>662</td>\n",
       "    </tr>\n",
       "    <tr>\n",
       "      <th rowspan=\"2\" valign=\"top\">35-44</th>\n",
       "      <th>1.0</th>\n",
       "      <td>698</td>\n",
       "    </tr>\n",
       "    <tr>\n",
       "      <th>2.0</th>\n",
       "      <td>616</td>\n",
       "    </tr>\n",
       "    <tr>\n",
       "      <th rowspan=\"2\" valign=\"top\">45-54</th>\n",
       "      <th>1.0</th>\n",
       "      <td>548</td>\n",
       "    </tr>\n",
       "    <tr>\n",
       "      <th>2.0</th>\n",
       "      <td>398</td>\n",
       "    </tr>\n",
       "    <tr>\n",
       "      <th rowspan=\"2\" valign=\"top\">55-64</th>\n",
       "      <th>1.0</th>\n",
       "      <td>260</td>\n",
       "    </tr>\n",
       "    <tr>\n",
       "      <th>2.0</th>\n",
       "      <td>196</td>\n",
       "    </tr>\n",
       "    <tr>\n",
       "      <th rowspan=\"2\" valign=\"top\">65-119</th>\n",
       "      <th>1.0</th>\n",
       "      <td>138</td>\n",
       "    </tr>\n",
       "    <tr>\n",
       "      <th>2.0</th>\n",
       "      <td>110</td>\n",
       "    </tr>\n",
       "  </tbody>\n",
       "</table>\n",
       "</div>"
      ],
      "text/plain": [
       "                  unique_person_id\n",
       "Age_Grouping sex                  \n",
       "1-14         1.0                42\n",
       "             2.0                70\n",
       "15-24        1.0               804\n",
       "             2.0               436\n",
       "25-34        1.0               962\n",
       "             2.0               662\n",
       "35-44        1.0               698\n",
       "             2.0               616\n",
       "45-54        1.0               548\n",
       "             2.0               398\n",
       "55-64        1.0               260\n",
       "             2.0               196\n",
       "65-119       1.0               138\n",
       "             2.0               110"
      ]
     },
     "execution_count": 16,
     "metadata": {},
     "output_type": "execute_result"
    }
   ],
   "source": [
    "gender_parting = employed_pips[['unique_person_id', 'age', 'sex', 'Age_Grouping']].copy()\n",
    "gender_parting_age = gender_parting.groupby(['Age_Grouping','sex']).count()[['unique_person_id']]\n",
    "gender_parting_age"
   ]
  },
  {
   "cell_type": "code",
   "execution_count": 17,
   "id": "69d494dc",
   "metadata": {},
   "outputs": [],
   "source": [
    "gender_parting_age = gender_parting_age.reset_index()"
   ]
  },
  {
   "cell_type": "code",
   "execution_count": 18,
   "id": "4b9167f7",
   "metadata": {},
   "outputs": [],
   "source": [
    "gender_age = gender_parting_age.pivot(index='Age_Grouping', columns='sex', values='unique_person_id')"
   ]
  },
  {
   "cell_type": "code",
   "execution_count": 21,
   "id": "9079a93d",
   "metadata": {},
   "outputs": [],
   "source": [
    "gender_age = gender_age.reset_index()\n",
    "gender_age = gender_age.rename(columns={1.0 : 'Men', 2.0: 'Women'})"
   ]
  },
  {
   "cell_type": "code",
   "execution_count": 29,
   "id": "e0bc0b07",
   "metadata": {},
   "outputs": [],
   "source": [
    "gender_age['men_perc'] = gender_age['Men']/(gender_age['Men'] + gender_age['Women']) \n",
    "gender_age['women_perc'] = gender_age['Women']/(gender_age['Men'] + gender_age['Women']) "
   ]
  },
  {
   "cell_type": "code",
   "execution_count": 30,
   "id": "a638aea1",
   "metadata": {},
   "outputs": [
    {
     "data": {
      "text/plain": [
       "<AxesSubplot:xlabel='Age_Grouping'>"
      ]
     },
     "execution_count": 30,
     "metadata": {},
     "output_type": "execute_result"
    },
    {
     "data": {
      "image/png": "[encoded data removed]",
      "text/plain": [
       "<Figure size 400x300 with 1 Axes>"
      ]
     },
     "metadata": {},
     "output_type": "display_data"
    }
   ],
   "source": [
    "gender_age.plot(x=\"Age_Grouping\", y=[\"men_perc\", \"women_perc\"], kind=\"bar\", figsize=(4, 3))"
   ]
  },
  {
   "cell_type": "code",
   "execution_count": null,
   "id": "8b9b47ad",
   "metadata": {},
   "outputs": [],
   "source": []
  }
 ],
 "metadata": {
  "kernelspec": {
   "display_name": "Python 3 (ipykernel)",
   "language": "python",
   "name": "python3"
  },
  "language_info": {
   "codemirror_mode": {
    "name": "ipython",
    "version": 3
   },
   "file_extension": ".py",
   "mimetype": "text/x-python",
   "name": "python",
   "nbconvert_exporter": "python",
   "pygments_lexer": "ipython3",
   "version": "3.9.16"
  }
 },
 "nbformat": 4,
 "nbformat_minor": 5
}
