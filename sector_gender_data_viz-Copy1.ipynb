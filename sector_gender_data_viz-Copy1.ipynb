{
 "cells": [
  {
   "cell_type": "code",
   "execution_count": 2,
   "id": "da0be8d7",
   "metadata": {},
   "outputs": [],
   "source": [
    "import pandas as pd"
   ]
  },
  {
   "cell_type": "code",
   "execution_count": 3,
   "id": "249a2a96",
   "metadata": {},
   "outputs": [],
   "source": [
    "raw_data = pd.read_excel('final_analysis_data.xlsx')\n",
    "final_data = pd.read_excel('28-Night-FINAL_DATASET.xlsx')"
   ]
  },
  {
   "cell_type": "code",
   "execution_count": 4,
   "id": "038accdb",
   "metadata": {},
   "outputs": [
    {
     "data": {
      "text/plain": [
       "Index(['hhid', 'region', 'regurb', 'subreg', 'district', 'urban', 'weight',\n",
       "       'PID', 's4q07', 'h2q3', 'age', 'h2q10', 's8q03', 's8q04', 's8q06',\n",
       "       's8q08', 's8q10', 's8q12', 's8q19a', 'occ', 'h8q19b_twoDigit', 's8q20a',\n",
       "       'h8q20b_oneDigit', 's8q36a', 's8q36b', 's8q36c', 's8q36d', 's8q36e',\n",
       "       's8q69', 's8q77', 's8q31a', 's8q31c', 's8q78', 'CEA01', 'CEA01A',\n",
       "       'CEA01B', 'CEA01C', 'CEA01D', 'education_levels', 'married',\n",
       "       'total_hours', 'hourly_wage', 'monthly_wage', 'lw', 'permanent', 'age2',\n",
       "       'numchild', 'gender', 'sec_cat', 'employed', 'lmw'],\n",
       "      dtype='object')"
      ]
     },
     "execution_count": 4,
     "metadata": {},
     "output_type": "execute_result"
    }
   ],
   "source": [
    "final_data.columns"
   ]
  },
  {
   "cell_type": "code",
   "execution_count": 5,
   "id": "e71ce643",
   "metadata": {},
   "outputs": [],
   "source": [
    "final_employtics = final_data[['hhid', 'PID', 'h2q3', 'age', 'h2q10', 's8q04', 's8q06', 's8q08', 's8q10', 's8q12',\n",
    "                               'education_levels', 'total_hours', 'hourly_wage', 'monthly_wage', 'numchild', 'gender','lw',\n",
    "                               'sec_cat', 'h8q19b_twoDigit', 'lmw', 'weight']]\n",
    "final_employtics = final_employtics.rename(columns={'h2q3': 'sex', 'h2q10': 'marital_status', 's8q04': 'waged_worker', \n",
    "                                                's8q06': 'business_owner', 's8q08': 'unpaid_hh_worker','s8q10': 'apprentice', \n",
    "                                                's8q12': 'hh_farm_worker','h8q19b_twoDigit': 'ISCO'})"
   ]
  },
  {
   "cell_type": "code",
   "execution_count": 6,
   "id": "460a56e9",
   "metadata": {},
   "outputs": [],
   "source": [
    "def employ_status(row):\n",
    "    if row['waged_worker'] ==1 or  row['business_owner'] == 1 or row['apprentice']==1 or row['unpaid_hh_worker']==1:\n",
    "        return 1\n",
    "    else:\n",
    "        return 0"
   ]
  },
  {
   "cell_type": "code",
   "execution_count": 7,
   "id": "e83178ac",
   "metadata": {},
   "outputs": [
    {
     "data": {
      "text/plain": [
       "(29034, 22)"
      ]
     },
     "execution_count": 7,
     "metadata": {},
     "output_type": "execute_result"
    }
   ],
   "source": [
    "final_employtics['employed'] = final_employtics.apply(lambda row: employ_status(row), axis=1)\n",
    "final_employtics.shape"
   ]
  },
  {
   "cell_type": "code",
   "execution_count": 22,
   "id": "20ff6f93",
   "metadata": {},
   "outputs": [
    {
     "data": {
      "text/html": [
       "<div>\n",
       "<style scoped>\n",
       "    .dataframe tbody tr th:only-of-type {\n",
       "        vertical-align: middle;\n",
       "    }\n",
       "\n",
       "    .dataframe tbody tr th {\n",
       "        vertical-align: top;\n",
       "    }\n",
       "\n",
       "    .dataframe thead th {\n",
       "        text-align: right;\n",
       "    }\n",
       "</style>\n",
       "<table border=\"1\" class=\"dataframe\">\n",
       "  <thead>\n",
       "    <tr style=\"text-align: right;\">\n",
       "      <th></th>\n",
       "      <th>hrs</th>\n",
       "      <th>proportion</th>\n",
       "    </tr>\n",
       "  </thead>\n",
       "  <tbody>\n",
       "    <tr>\n",
       "      <th>0</th>\n",
       "      <td>0</td>\n",
       "      <td>0.1505</td>\n",
       "    </tr>\n",
       "    <tr>\n",
       "      <th>1</th>\n",
       "      <td>1</td>\n",
       "      <td>0.0044</td>\n",
       "    </tr>\n",
       "    <tr>\n",
       "      <th>2</th>\n",
       "      <td>2</td>\n",
       "      <td>0.0086</td>\n",
       "    </tr>\n",
       "  </tbody>\n",
       "</table>\n",
       "</div>"
      ],
      "text/plain": [
       "   hrs  proportion\n",
       "0    0      0.1505\n",
       "1    1      0.0044\n",
       "2    2      0.0086"
      ]
     },
     "execution_count": 22,
     "metadata": {},
     "output_type": "execute_result"
    }
   ],
   "source": [
    "weighted_hours = pd.read_excel('Weighted_hours.xlsx')\n",
    "weighted_hours.head(3)"
   ]
  },
  {
   "cell_type": "code",
   "execution_count": 8,
   "id": "383cdd3e",
   "metadata": {},
   "outputs": [
    {
     "data": {
      "text/plain": [
       "(5940, 23)"
      ]
     },
     "execution_count": 8,
     "metadata": {},
     "output_type": "execute_result"
    }
   ],
   "source": [
    "employed_pips = final_employtics[final_employtics['employed']== 1].copy()\n",
    "employed_pips['unique_person_id'] = employed_pips['hhid'].astype(str) + '_' + employed_pips['PID'].astype(str)\n",
    "employed_pips.shape"
   ]
  },
  {
   "cell_type": "code",
   "execution_count": 31,
   "id": "6bde707d",
   "metadata": {},
   "outputs": [
    {
     "data": {
      "text/html": [
       "<div>\n",
       "<style scoped>\n",
       "    .dataframe tbody tr th:only-of-type {\n",
       "        vertical-align: middle;\n",
       "    }\n",
       "\n",
       "    .dataframe tbody tr th {\n",
       "        vertical-align: top;\n",
       "    }\n",
       "\n",
       "    .dataframe thead th {\n",
       "        text-align: right;\n",
       "    }\n",
       "</style>\n",
       "<table border=\"1\" class=\"dataframe\">\n",
       "  <thead>\n",
       "    <tr style=\"text-align: right;\">\n",
       "      <th></th>\n",
       "      <th>hhid</th>\n",
       "      <th>PID</th>\n",
       "      <th>sex</th>\n",
       "      <th>age</th>\n",
       "      <th>marital_status</th>\n",
       "      <th>waged_worker</th>\n",
       "      <th>business_owner</th>\n",
       "      <th>unpaid_hh_worker</th>\n",
       "      <th>apprentice</th>\n",
       "      <th>hh_farm_worker</th>\n",
       "      <th>...</th>\n",
       "      <th>gender</th>\n",
       "      <th>lw</th>\n",
       "      <th>sec_cat</th>\n",
       "      <th>ISCO</th>\n",
       "      <th>lmw</th>\n",
       "      <th>weight</th>\n",
       "      <th>employed</th>\n",
       "      <th>unique_person_id</th>\n",
       "      <th>hrs</th>\n",
       "      <th>proportion</th>\n",
       "    </tr>\n",
       "  </thead>\n",
       "  <tbody>\n",
       "    <tr>\n",
       "      <th>0</th>\n",
       "      <td>0007d1f1449242feb5a25429644fb991</td>\n",
       "      <td>2.0</td>\n",
       "      <td>2.0</td>\n",
       "      <td>24.0</td>\n",
       "      <td>5.0</td>\n",
       "      <td>1.0</td>\n",
       "      <td>2.0</td>\n",
       "      <td>2.0</td>\n",
       "      <td>2.0</td>\n",
       "      <td>1.0</td>\n",
       "      <td>...</td>\n",
       "      <td>1.0</td>\n",
       "      <td>NaN</td>\n",
       "      <td>4.0</td>\n",
       "      <td>23.0</td>\n",
       "      <td>NaN</td>\n",
       "      <td>2621.863747</td>\n",
       "      <td>1</td>\n",
       "      <td>0007d1f1449242feb5a25429644fb991_2.0</td>\n",
       "      <td>5</td>\n",
       "      <td>0.0195</td>\n",
       "    </tr>\n",
       "    <tr>\n",
       "      <th>1</th>\n",
       "      <td>0007d1f1449242feb5a25429644fb991</td>\n",
       "      <td>2.0</td>\n",
       "      <td>2.0</td>\n",
       "      <td>24.0</td>\n",
       "      <td>5.0</td>\n",
       "      <td>1.0</td>\n",
       "      <td>2.0</td>\n",
       "      <td>2.0</td>\n",
       "      <td>2.0</td>\n",
       "      <td>1.0</td>\n",
       "      <td>...</td>\n",
       "      <td>1.0</td>\n",
       "      <td>NaN</td>\n",
       "      <td>4.0</td>\n",
       "      <td>23.0</td>\n",
       "      <td>NaN</td>\n",
       "      <td>2621.863747</td>\n",
       "      <td>1</td>\n",
       "      <td>0007d1f1449242feb5a25429644fb991_2.0</td>\n",
       "      <td>5</td>\n",
       "      <td>0.0195</td>\n",
       "    </tr>\n",
       "  </tbody>\n",
       "</table>\n",
       "<p>2 rows × 25 columns</p>\n",
       "</div>"
      ],
      "text/plain": [
       "                               hhid  PID  sex   age  marital_status  \\\n",
       "0  0007d1f1449242feb5a25429644fb991  2.0  2.0  24.0             5.0   \n",
       "1  0007d1f1449242feb5a25429644fb991  2.0  2.0  24.0             5.0   \n",
       "\n",
       "   waged_worker  business_owner  unpaid_hh_worker  apprentice  hh_farm_worker  \\\n",
       "0           1.0             2.0               2.0         2.0             1.0   \n",
       "1           1.0             2.0               2.0         2.0             1.0   \n",
       "\n",
       "   ...  gender  lw  sec_cat  ISCO  lmw       weight  employed  \\\n",
       "0  ...     1.0 NaN      4.0  23.0  NaN  2621.863747         1   \n",
       "1  ...     1.0 NaN      4.0  23.0  NaN  2621.863747         1   \n",
       "\n",
       "                       unique_person_id  hrs  proportion  \n",
       "0  0007d1f1449242feb5a25429644fb991_2.0    5      0.0195  \n",
       "1  0007d1f1449242feb5a25429644fb991_2.0    5      0.0195  \n",
       "\n",
       "[2 rows x 25 columns]"
      ]
     },
     "execution_count": 31,
     "metadata": {},
     "output_type": "execute_result"
    }
   ],
   "source": [
    "employed_pips_hrs_ = employed_pips.merge(weighted_hours, left_on='total_hours', right_on='hrs', how='outer')\n",
    "employed_pips_hrs_.head(2)"
   ]
  },
  {
   "cell_type": "code",
   "execution_count": 46,
   "id": "8b9b47ad",
   "metadata": {},
   "outputs": [],
   "source": [
    "ISCO_parting = employed_pips_hrs_[['unique_person_id', 'sex', 'sec_cat', 'hourly_wage', 'lw', 'proportion']].copy()\n",
    "ISCO_parting =ISCO_parting[ISCO_parting['lw'].notna()]"
   ]
  },
  {
   "cell_type": "code",
   "execution_count": 47,
   "id": "8636f566",
   "metadata": {},
   "outputs": [
    {
     "data": {
      "text/html": [
       "<div>\n",
       "<style scoped>\n",
       "    .dataframe tbody tr th:only-of-type {\n",
       "        vertical-align: middle;\n",
       "    }\n",
       "\n",
       "    .dataframe tbody tr th {\n",
       "        vertical-align: top;\n",
       "    }\n",
       "\n",
       "    .dataframe thead th {\n",
       "        text-align: right;\n",
       "    }\n",
       "</style>\n",
       "<table border=\"1\" class=\"dataframe\">\n",
       "  <thead>\n",
       "    <tr style=\"text-align: right;\">\n",
       "      <th></th>\n",
       "      <th>unique_person_id</th>\n",
       "      <th>sex</th>\n",
       "      <th>sec_cat</th>\n",
       "      <th>hourly_wage</th>\n",
       "      <th>lw</th>\n",
       "      <th>proportion</th>\n",
       "    </tr>\n",
       "  </thead>\n",
       "  <tbody>\n",
       "    <tr>\n",
       "      <th>14</th>\n",
       "      <td>2e52712b6bed4118b543e6d8488ee019_1.0</td>\n",
       "      <td>1.0</td>\n",
       "      <td>4.0</td>\n",
       "      <td>6000.000000</td>\n",
       "      <td>8.699514</td>\n",
       "      <td>0.0195</td>\n",
       "    </tr>\n",
       "    <tr>\n",
       "      <th>15</th>\n",
       "      <td>2e52712b6bed4118b543e6d8488ee019_1.0</td>\n",
       "      <td>1.0</td>\n",
       "      <td>4.0</td>\n",
       "      <td>6000.000000</td>\n",
       "      <td>8.699514</td>\n",
       "      <td>0.0195</td>\n",
       "    </tr>\n",
       "    <tr>\n",
       "      <th>86</th>\n",
       "      <td>0a33bbb4716e43918e2dcb131f616aff_1.0</td>\n",
       "      <td>1.0</td>\n",
       "      <td>1.0</td>\n",
       "      <td>2142.857178</td>\n",
       "      <td>7.669895</td>\n",
       "      <td>0.0173</td>\n",
       "    </tr>\n",
       "    <tr>\n",
       "      <th>87</th>\n",
       "      <td>0a33bbb4716e43918e2dcb131f616aff_1.0</td>\n",
       "      <td>1.0</td>\n",
       "      <td>1.0</td>\n",
       "      <td>2142.857178</td>\n",
       "      <td>7.669895</td>\n",
       "      <td>0.0173</td>\n",
       "    </tr>\n",
       "    <tr>\n",
       "      <th>90</th>\n",
       "      <td>0e0d592eae8546e29fa5672ad599d418_6.0</td>\n",
       "      <td>1.0</td>\n",
       "      <td>2.0</td>\n",
       "      <td>15000.000000</td>\n",
       "      <td>9.615806</td>\n",
       "      <td>0.0173</td>\n",
       "    </tr>\n",
       "  </tbody>\n",
       "</table>\n",
       "</div>"
      ],
      "text/plain": [
       "                        unique_person_id  sex  sec_cat   hourly_wage  \\\n",
       "14  2e52712b6bed4118b543e6d8488ee019_1.0  1.0      4.0   6000.000000   \n",
       "15  2e52712b6bed4118b543e6d8488ee019_1.0  1.0      4.0   6000.000000   \n",
       "86  0a33bbb4716e43918e2dcb131f616aff_1.0  1.0      1.0   2142.857178   \n",
       "87  0a33bbb4716e43918e2dcb131f616aff_1.0  1.0      1.0   2142.857178   \n",
       "90  0e0d592eae8546e29fa5672ad599d418_6.0  1.0      2.0  15000.000000   \n",
       "\n",
       "          lw  proportion  \n",
       "14  8.699514      0.0195  \n",
       "15  8.699514      0.0195  \n",
       "86  7.669895      0.0173  \n",
       "87  7.669895      0.0173  \n",
       "90  9.615806      0.0173  "
      ]
     },
     "execution_count": 47,
     "metadata": {},
     "output_type": "execute_result"
    }
   ],
   "source": [
    "ISCO_parting.head()"
   ]
  },
  {
   "cell_type": "code",
   "execution_count": 48,
   "id": "802444a6",
   "metadata": {},
   "outputs": [],
   "source": [
    "def weighted_average(dataframe, value, weight):\n",
    "    val = dataframe[value]\n",
    "    wt = dataframe[weight]\n",
    "    return (val * wt).sum() / wt.sum()"
   ]
  },
  {
   "cell_type": "code",
   "execution_count": 54,
   "id": "6fa973f7",
   "metadata": {},
   "outputs": [],
   "source": [
    "sec_wage = ISCO_parting.groupby(['sec_cat', 'sex']).apply(weighted_average,\n",
    "                                     'hourly_wage', 'proportion')"
   ]
  },
  {
   "cell_type": "code",
   "execution_count": 55,
   "id": "4ad0cdac",
   "metadata": {},
   "outputs": [
    {
     "data": {
      "text/html": [
       "<div>\n",
       "<style scoped>\n",
       "    .dataframe tbody tr th:only-of-type {\n",
       "        vertical-align: middle;\n",
       "    }\n",
       "\n",
       "    .dataframe tbody tr th {\n",
       "        vertical-align: top;\n",
       "    }\n",
       "\n",
       "    .dataframe thead th {\n",
       "        text-align: right;\n",
       "    }\n",
       "</style>\n",
       "<table border=\"1\" class=\"dataframe\">\n",
       "  <thead>\n",
       "    <tr style=\"text-align: right;\">\n",
       "      <th></th>\n",
       "      <th>sec_cat</th>\n",
       "      <th>sex</th>\n",
       "      <th>0</th>\n",
       "    </tr>\n",
       "  </thead>\n",
       "  <tbody>\n",
       "    <tr>\n",
       "      <th>0</th>\n",
       "      <td>1.0</td>\n",
       "      <td>1.0</td>\n",
       "      <td>5128.096978</td>\n",
       "    </tr>\n",
       "    <tr>\n",
       "      <th>1</th>\n",
       "      <td>1.0</td>\n",
       "      <td>2.0</td>\n",
       "      <td>3690.604546</td>\n",
       "    </tr>\n",
       "    <tr>\n",
       "      <th>2</th>\n",
       "      <td>2.0</td>\n",
       "      <td>1.0</td>\n",
       "      <td>8112.984016</td>\n",
       "    </tr>\n",
       "    <tr>\n",
       "      <th>3</th>\n",
       "      <td>2.0</td>\n",
       "      <td>2.0</td>\n",
       "      <td>1809.954082</td>\n",
       "    </tr>\n",
       "    <tr>\n",
       "      <th>4</th>\n",
       "      <td>3.0</td>\n",
       "      <td>1.0</td>\n",
       "      <td>11156.835439</td>\n",
       "    </tr>\n",
       "    <tr>\n",
       "      <th>5</th>\n",
       "      <td>4.0</td>\n",
       "      <td>1.0</td>\n",
       "      <td>16486.273681</td>\n",
       "    </tr>\n",
       "    <tr>\n",
       "      <th>6</th>\n",
       "      <td>4.0</td>\n",
       "      <td>2.0</td>\n",
       "      <td>16562.179092</td>\n",
       "    </tr>\n",
       "    <tr>\n",
       "      <th>7</th>\n",
       "      <td>5.0</td>\n",
       "      <td>1.0</td>\n",
       "      <td>6277.229347</td>\n",
       "    </tr>\n",
       "    <tr>\n",
       "      <th>8</th>\n",
       "      <td>6.0</td>\n",
       "      <td>1.0</td>\n",
       "      <td>8727.401528</td>\n",
       "    </tr>\n",
       "  </tbody>\n",
       "</table>\n",
       "</div>"
      ],
      "text/plain": [
       "   sec_cat  sex             0\n",
       "0      1.0  1.0   5128.096978\n",
       "1      1.0  2.0   3690.604546\n",
       "2      2.0  1.0   8112.984016\n",
       "3      2.0  2.0   1809.954082\n",
       "4      3.0  1.0  11156.835439\n",
       "5      4.0  1.0  16486.273681\n",
       "6      4.0  2.0  16562.179092\n",
       "7      5.0  1.0   6277.229347\n",
       "8      6.0  1.0   8727.401528"
      ]
     },
     "execution_count": 55,
     "metadata": {},
     "output_type": "execute_result"
    }
   ],
   "source": [
    "sec_wage = pd.DataFrame(sec_wage)\n",
    "sec_wage = sec_wage.reset_index()"
   ]
  },
  {
   "cell_type": "code",
   "execution_count": 56,
   "id": "e2093fb6",
   "metadata": {},
   "outputs": [],
   "source": [
    "# hourly_gender = sec_gender.reset_index()\n",
    "# hourly_gender = hourly_gender.rename(columns={1.0 : 'Men', 2.0: 'Women'})\n",
    "# hourly_gender['gender_gap'] = (hourly_gender['Men'] - hourly_gender['Women'])*100\n",
    "# hourly_gender"
   ]
  },
  {
   "cell_type": "code",
   "execution_count": 61,
   "id": "a015e29f",
   "metadata": {},
   "outputs": [],
   "source": [
    "sample_={1: 'Agriculture', 2: 'Manufactiring', 3: 'Construction', 4:'Market services', 5:'Non-market services', 6: 'Mining and quarrying'}\n",
    "sec_wage[\"sec_cat\"] = sec_wage[\"sec_cat\"].replace(sample_)"
   ]
  },
  {
   "cell_type": "code",
   "execution_count": 62,
   "id": "b79adabb",
   "metadata": {},
   "outputs": [],
   "source": [
    "sex_ = {1: 'Male', 2: 'Female'}\n",
    "sec_wage[\"sex\"] = sec_wage[\"sex\"].replace(sex_)"
   ]
  },
  {
   "cell_type": "code",
   "execution_count": 65,
   "id": "4dcb8dee",
   "metadata": {},
   "outputs": [],
   "source": [
    "sec_wage = sec_wage.rename(columns={0: 'hourly_wage'}).drop(columns=['sec_wage'])\n",
    "sec_wage.to_excel('sec.xlsx')"
   ]
  },
  {
   "cell_type": "code",
   "execution_count": 18,
   "id": "dd615361",
   "metadata": {},
   "outputs": [
    {
     "data": {
      "text/html": [
       "<div>\n",
       "<style scoped>\n",
       "    .dataframe tbody tr th:only-of-type {\n",
       "        vertical-align: middle;\n",
       "    }\n",
       "\n",
       "    .dataframe tbody tr th {\n",
       "        vertical-align: top;\n",
       "    }\n",
       "\n",
       "    .dataframe thead th {\n",
       "        text-align: right;\n",
       "    }\n",
       "</style>\n",
       "<table border=\"1\" class=\"dataframe\">\n",
       "  <thead>\n",
       "    <tr style=\"text-align: right;\">\n",
       "      <th>sex</th>\n",
       "      <th>1.0</th>\n",
       "      <th>2.0</th>\n",
       "    </tr>\n",
       "    <tr>\n",
       "      <th>sec_cat</th>\n",
       "      <th></th>\n",
       "      <th></th>\n",
       "    </tr>\n",
       "  </thead>\n",
       "  <tbody>\n",
       "    <tr>\n",
       "      <th>Agriculture</th>\n",
       "      <td>1050</td>\n",
       "      <td>902</td>\n",
       "    </tr>\n",
       "    <tr>\n",
       "      <th>Construction</th>\n",
       "      <td>320</td>\n",
       "      <td>10</td>\n",
       "    </tr>\n",
       "    <tr>\n",
       "      <th>Manufactiring</th>\n",
       "      <td>288</td>\n",
       "      <td>166</td>\n",
       "    </tr>\n",
       "    <tr>\n",
       "      <th>Market services</th>\n",
       "      <td>1670</td>\n",
       "      <td>1322</td>\n",
       "    </tr>\n",
       "    <tr>\n",
       "      <th>Mining and quarrying</th>\n",
       "      <td>38</td>\n",
       "      <td>20</td>\n",
       "    </tr>\n",
       "    <tr>\n",
       "      <th>Non-market services</th>\n",
       "      <td>86</td>\n",
       "      <td>68</td>\n",
       "    </tr>\n",
       "  </tbody>\n",
       "</table>\n",
       "</div>"
      ],
      "text/plain": [
       "sex                    1.0   2.0\n",
       "sec_cat                         \n",
       "Agriculture           1050   902\n",
       "Construction           320    10\n",
       "Manufactiring          288   166\n",
       "Market services       1670  1322\n",
       "Mining and quarrying    38    20\n",
       "Non-market services     86    68"
      ]
     },
     "execution_count": 18,
     "metadata": {},
     "output_type": "execute_result"
    }
   ],
   "source": [
    "ISCO_ = ISCO.pivot(index='sec_cat', columns='sex', values='unique_person_id')\n",
    "ISCO_"
   ]
  },
  {
   "cell_type": "code",
   "execution_count": 19,
   "id": "090bc707",
   "metadata": {},
   "outputs": [],
   "source": [
    "ISCO_ = ISCO_.reset_index()\n",
    "ISCO_  = ISCO_.rename(columns={1.0 : 'Men', 2.0: 'Women'})"
   ]
  },
  {
   "cell_type": "code",
   "execution_count": 20,
   "id": "a73abcee",
   "metadata": {},
   "outputs": [
    {
     "data": {
      "text/html": [
       "<div>\n",
       "<style scoped>\n",
       "    .dataframe tbody tr th:only-of-type {\n",
       "        vertical-align: middle;\n",
       "    }\n",
       "\n",
       "    .dataframe tbody tr th {\n",
       "        vertical-align: top;\n",
       "    }\n",
       "\n",
       "    .dataframe thead th {\n",
       "        text-align: right;\n",
       "    }\n",
       "</style>\n",
       "<table border=\"1\" class=\"dataframe\">\n",
       "  <thead>\n",
       "    <tr style=\"text-align: right;\">\n",
       "      <th>sex</th>\n",
       "      <th>sec_cat</th>\n",
       "      <th>Men</th>\n",
       "      <th>Women</th>\n",
       "    </tr>\n",
       "  </thead>\n",
       "  <tbody>\n",
       "    <tr>\n",
       "      <th>0</th>\n",
       "      <td>Agriculture</td>\n",
       "      <td>1050</td>\n",
       "      <td>902</td>\n",
       "    </tr>\n",
       "    <tr>\n",
       "      <th>1</th>\n",
       "      <td>Construction</td>\n",
       "      <td>320</td>\n",
       "      <td>10</td>\n",
       "    </tr>\n",
       "    <tr>\n",
       "      <th>2</th>\n",
       "      <td>Manufactiring</td>\n",
       "      <td>288</td>\n",
       "      <td>166</td>\n",
       "    </tr>\n",
       "    <tr>\n",
       "      <th>3</th>\n",
       "      <td>Market services</td>\n",
       "      <td>1670</td>\n",
       "      <td>1322</td>\n",
       "    </tr>\n",
       "    <tr>\n",
       "      <th>4</th>\n",
       "      <td>Mining and quarrying</td>\n",
       "      <td>38</td>\n",
       "      <td>20</td>\n",
       "    </tr>\n",
       "    <tr>\n",
       "      <th>5</th>\n",
       "      <td>Non-market services</td>\n",
       "      <td>86</td>\n",
       "      <td>68</td>\n",
       "    </tr>\n",
       "  </tbody>\n",
       "</table>\n",
       "</div>"
      ],
      "text/plain": [
       "sex               sec_cat   Men  Women\n",
       "0             Agriculture  1050    902\n",
       "1            Construction   320     10\n",
       "2           Manufactiring   288    166\n",
       "3         Market services  1670   1322\n",
       "4    Mining and quarrying    38     20\n",
       "5     Non-market services    86     68"
      ]
     },
     "execution_count": 20,
     "metadata": {},
     "output_type": "execute_result"
    }
   ],
   "source": [
    "ISCO_"
   ]
  },
  {
   "cell_type": "code",
   "execution_count": 25,
   "id": "cb43e817",
   "metadata": {},
   "outputs": [],
   "source": [
    "ISCO = ISCO.fillna(0)"
   ]
  },
  {
   "cell_type": "code",
   "execution_count": 27,
   "id": "f08f4154",
   "metadata": {},
   "outputs": [],
   "source": [
    "ISCO['men_perc'] = ISCO['Men']/(ISCO['Men'] + ISCO['Women']) \n",
    "ISCO['women_perc'] = ISCO['Women']/(ISCO['Men'] + ISCO['Women']) "
   ]
  },
  {
   "cell_type": "code",
   "execution_count": 40,
   "id": "58fdade3",
   "metadata": {},
   "outputs": [
    {
     "data": {
      "text/plain": [
       "array([ 11.,  12.,  13.,  14.,  21.,  22.,  23.,  24.,  25.,  26.,  31.,\n",
       "        32.,  33.,  34.,  35.,  41.,  42.,  43.,  44.,  51.,  52.,  53.,\n",
       "        54.,  61.,  62.,  63.,  71.,  72.,  73.,  74.,  75.,  81.,  82.,\n",
       "        83.,  91.,  92.,  93.,  94.,  95.,  96., 991., 992., 993.])"
      ]
     },
     "execution_count": 40,
     "metadata": {},
     "output_type": "execute_result"
    }
   ],
   "source": [
    "ISCO['ISCO'].unique()"
   ]
  },
  {
   "cell_type": "code",
   "execution_count": null,
   "id": "69262570",
   "metadata": {},
   "outputs": [],
   "source": [
    "{'Managers': [11,12,13,14]}"
   ]
  },
  {
   "cell_type": "code",
   "execution_count": 38,
   "id": "8472ee9e",
   "metadata": {},
   "outputs": [
    {
     "data": {
      "text/plain": [
       "<AxesSubplot:ylabel='ISCO'>"
      ]
     },
     "execution_count": 38,
     "metadata": {},
     "output_type": "execute_result"
    },
    {
     "data": {
      "image/png": "[encoded data removed]",
      "text/plain": [
       "<Figure size 900x1200 with 1 Axes>"
      ]
     },
     "metadata": {},
     "output_type": "display_data"
    }
   ],
   "source": [
    "ISCO.plot.barh(x='ISCO', y=['Men', 'Women'],  figsize=(9, 12))"
   ]
  },
  {
   "cell_type": "code",
   "execution_count": null,
   "id": "142df8f7",
   "metadata": {},
   "outputs": [],
   "source": []
  }
 ],
 "metadata": {
  "kernelspec": {
   "display_name": "Python 3 (ipykernel)",
   "language": "python",
   "name": "python3"
  },
  "language_info": {
   "codemirror_mode": {
    "name": "ipython",
    "version": 3
   },
   "file_extension": ".py",
   "mimetype": "text/x-python",
   "name": "python",
   "nbconvert_exporter": "python",
   "pygments_lexer": "ipython3",
   "version": "3.9.16"
  }
 },
 "nbformat": 4,
 "nbformat_minor": 5
}
