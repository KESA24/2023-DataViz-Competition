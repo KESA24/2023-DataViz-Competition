{
 "cells": [
  {
   "cell_type": "code",
   "execution_count": 353,
   "id": "f10a6bde",
   "metadata": {},
   "outputs": [],
   "source": [
    "import pandas as pd"
   ]
  },
  {
   "cell_type": "code",
   "execution_count": 354,
   "id": "981137ce",
   "metadata": {},
   "outputs": [],
   "source": [
    "raw_data = pd.read_excel('final_analysis_data.xlsx')\n",
    "final_data = pd.read_excel('28-Night-FINAL_DATASET.xlsx')"
   ]
  },
  {
   "cell_type": "code",
   "execution_count": 355,
   "id": "503df4df",
   "metadata": {},
   "outputs": [
    {
     "data": {
      "text/plain": [
       "(29034, 51)"
      ]
     },
     "execution_count": 355,
     "metadata": {},
     "output_type": "execute_result"
    }
   ],
   "source": [
    "final_data.shape"
   ]
  },
  {
   "cell_type": "code",
   "execution_count": 218,
   "id": "8758533a",
   "metadata": {},
   "outputs": [
    {
     "data": {
      "text/plain": [
       "Index(['hhid', 'region', 'regurb', 'subreg', 'district', 'urban', 'weight',\n",
       "       'PID', 's4q07', 'h2q3', 'age', 'h2q10', 's8q03', 's8q04', 's8q06',\n",
       "       's8q08', 's8q10', 's8q12', 's8q19a', 'occ', 'h8q19b_twoDigit', 's8q20a',\n",
       "       'h8q20b_oneDigit', 's8q36a', 's8q36b', 's8q36c', 's8q36d', 's8q36e',\n",
       "       's8q69', 's8q77', 's8q31a', 's8q31c', 's8q78', 'CEA01', 'CEA01A',\n",
       "       'CEA01B', 'CEA01C', 'CEA01D', 'education_levels', 'married',\n",
       "       'total_hours', 'hourly_wage', 'monthly_wage', 'lw', 'permanent', 'age2',\n",
       "       'numchild', 'gender', 'sec_cat', 'employed', 'lmw'],\n",
       "      dtype='object')"
      ]
     },
     "execution_count": 218,
     "metadata": {},
     "output_type": "execute_result"
    }
   ],
   "source": [
    "final_data.columns"
   ]
  },
  {
   "cell_type": "code",
   "execution_count": 356,
   "id": "b6d517f7",
   "metadata": {},
   "outputs": [],
   "source": [
    "final_employtics = final_data[['hhid', 'PID', 'h2q3', 'age', 'h2q10', 's8q04', 's8q06', 's8q08', 's8q10', 's8q12',\n",
    "                               'education_levels', 'total_hours', 'hourly_wage', 'monthly_wage', 'numchild', 'gender','lw',\n",
    "                               'sec_cat', 'h8q19b_twoDigit', 'lmw', 'weight']]\n",
    "final_employtics = final_employtics.rename(columns={'h2q3': 'sex', \n",
    "                                                    'h2q10': 'marital_status', \n",
    "                                                    's8q04': 'waged_worker', \n",
    "                                                    's8q06': 'business_owner', \n",
    "                                                    's8q08': 'unpaid_hh_worker', \n",
    "                                                    's8q10': 'apprentice', \n",
    "                                                    's8q12': 'hh_farm_worker',\n",
    "                                                    'h8q19b_twoDigit': 'ISCO'})"
   ]
  },
  {
   "cell_type": "code",
   "execution_count": 394,
   "id": "dced978b",
   "metadata": {},
   "outputs": [
    {
     "data": {
      "text/plain": [
       "37232135.169391066"
      ]
     },
     "execution_count": 394,
     "metadata": {},
     "output_type": "execute_result"
    }
   ],
   "source": [
    "raw_data['wgt'].sum()"
   ]
  },
  {
   "cell_type": "markdown",
   "id": "1d04acd2",
   "metadata": {},
   "source": [
    "### Remove unemployed people / Retain employed people only"
   ]
  },
  {
   "cell_type": "code",
   "execution_count": 365,
   "id": "929ab7b3",
   "metadata": {},
   "outputs": [],
   "source": [
    "def employ_status(row):\n",
    "    if row['waged_worker'] ==1 or  row['business_owner'] == 1 or row['apprentice']==1 or row['unpaid_hh_worker']==1:\n",
    "        return 1\n",
    "    else:\n",
    "        return 0"
   ]
  },
  {
   "cell_type": "code",
   "execution_count": 366,
   "id": "4b0a7ba2",
   "metadata": {},
   "outputs": [
    {
     "data": {
      "text/plain": [
       "(29034, 22)"
      ]
     },
     "execution_count": 366,
     "metadata": {},
     "output_type": "execute_result"
    }
   ],
   "source": [
    "final_employtics['employed'] = final_employtics.apply(lambda row: employ_status(row), axis=1)\n",
    "final_employtics.shape"
   ]
  },
  {
   "cell_type": "code",
   "execution_count": 367,
   "id": "22f24784",
   "metadata": {},
   "outputs": [
    {
     "data": {
      "text/plain": [
       "(5940, 23)"
      ]
     },
     "execution_count": 367,
     "metadata": {},
     "output_type": "execute_result"
    }
   ],
   "source": [
    "employed_pips = final_employtics[final_employtics['employed']== 1].copy()\n",
    "employed_pips['unique_person_id'] = employed_pips['hhid'].astype(str) + '_' + employed_pips['PID'].astype(str)\n",
    "employed_pips.shape"
   ]
  },
  {
   "cell_type": "code",
   "execution_count": 368,
   "id": "9d5140d5",
   "metadata": {},
   "outputs": [
    {
     "data": {
      "text/html": [
       "<div>\n",
       "<style scoped>\n",
       "    .dataframe tbody tr th:only-of-type {\n",
       "        vertical-align: middle;\n",
       "    }\n",
       "\n",
       "    .dataframe tbody tr th {\n",
       "        vertical-align: top;\n",
       "    }\n",
       "\n",
       "    .dataframe thead th {\n",
       "        text-align: right;\n",
       "    }\n",
       "</style>\n",
       "<table border=\"1\" class=\"dataframe\">\n",
       "  <thead>\n",
       "    <tr style=\"text-align: right;\">\n",
       "      <th></th>\n",
       "      <th>hhid</th>\n",
       "      <th>PID</th>\n",
       "      <th>sex</th>\n",
       "      <th>age</th>\n",
       "      <th>marital_status</th>\n",
       "      <th>waged_worker</th>\n",
       "      <th>business_owner</th>\n",
       "      <th>unpaid_hh_worker</th>\n",
       "      <th>apprentice</th>\n",
       "      <th>hh_farm_worker</th>\n",
       "      <th>...</th>\n",
       "      <th>monthly_wage</th>\n",
       "      <th>numchild</th>\n",
       "      <th>gender</th>\n",
       "      <th>lw</th>\n",
       "      <th>sec_cat</th>\n",
       "      <th>ISCO</th>\n",
       "      <th>lmw</th>\n",
       "      <th>weight</th>\n",
       "      <th>employed</th>\n",
       "      <th>unique_person_id</th>\n",
       "    </tr>\n",
       "  </thead>\n",
       "  <tbody>\n",
       "    <tr>\n",
       "      <th>2</th>\n",
       "      <td>0007d1f1449242feb5a25429644fb991</td>\n",
       "      <td>2.0</td>\n",
       "      <td>2.0</td>\n",
       "      <td>24.0</td>\n",
       "      <td>5.0</td>\n",
       "      <td>1.0</td>\n",
       "      <td>2.0</td>\n",
       "      <td>2.0</td>\n",
       "      <td>2.0</td>\n",
       "      <td>1.0</td>\n",
       "      <td>...</td>\n",
       "      <td>NaN</td>\n",
       "      <td>2.0</td>\n",
       "      <td>1.0</td>\n",
       "      <td>NaN</td>\n",
       "      <td>4.0</td>\n",
       "      <td>23.0</td>\n",
       "      <td>NaN</td>\n",
       "      <td>2621.863747</td>\n",
       "      <td>1</td>\n",
       "      <td>0007d1f1449242feb5a25429644fb991_2.0</td>\n",
       "    </tr>\n",
       "    <tr>\n",
       "      <th>3</th>\n",
       "      <td>0007d1f1449242feb5a25429644fb991</td>\n",
       "      <td>2.0</td>\n",
       "      <td>2.0</td>\n",
       "      <td>24.0</td>\n",
       "      <td>5.0</td>\n",
       "      <td>1.0</td>\n",
       "      <td>2.0</td>\n",
       "      <td>2.0</td>\n",
       "      <td>2.0</td>\n",
       "      <td>1.0</td>\n",
       "      <td>...</td>\n",
       "      <td>NaN</td>\n",
       "      <td>7.0</td>\n",
       "      <td>1.0</td>\n",
       "      <td>NaN</td>\n",
       "      <td>4.0</td>\n",
       "      <td>23.0</td>\n",
       "      <td>NaN</td>\n",
       "      <td>2621.863747</td>\n",
       "      <td>1</td>\n",
       "      <td>0007d1f1449242feb5a25429644fb991_2.0</td>\n",
       "    </tr>\n",
       "  </tbody>\n",
       "</table>\n",
       "<p>2 rows × 23 columns</p>\n",
       "</div>"
      ],
      "text/plain": [
       "                               hhid  PID  sex   age  marital_status  \\\n",
       "2  0007d1f1449242feb5a25429644fb991  2.0  2.0  24.0             5.0   \n",
       "3  0007d1f1449242feb5a25429644fb991  2.0  2.0  24.0             5.0   \n",
       "\n",
       "   waged_worker  business_owner  unpaid_hh_worker  apprentice  hh_farm_worker  \\\n",
       "2           1.0             2.0               2.0         2.0             1.0   \n",
       "3           1.0             2.0               2.0         2.0             1.0   \n",
       "\n",
       "   ...  monthly_wage  numchild  gender  lw  sec_cat  ISCO  lmw       weight  \\\n",
       "2  ...           NaN       2.0     1.0 NaN      4.0  23.0  NaN  2621.863747   \n",
       "3  ...           NaN       7.0     1.0 NaN      4.0  23.0  NaN  2621.863747   \n",
       "\n",
       "   employed                      unique_person_id  \n",
       "2         1  0007d1f1449242feb5a25429644fb991_2.0  \n",
       "3         1  0007d1f1449242feb5a25429644fb991_2.0  \n",
       "\n",
       "[2 rows x 23 columns]"
      ]
     },
     "execution_count": 368,
     "metadata": {},
     "output_type": "execute_result"
    }
   ],
   "source": [
    "employed_pips.head(2)"
   ]
  },
  {
   "cell_type": "markdown",
   "id": "bb9021d8",
   "metadata": {},
   "source": [
    "## Group by Age"
   ]
  },
  {
   "cell_type": "code",
   "execution_count": 369,
   "id": "1e4fbc16",
   "metadata": {},
   "outputs": [
    {
     "data": {
      "text/html": [
       "<div>\n",
       "<style scoped>\n",
       "    .dataframe tbody tr th:only-of-type {\n",
       "        vertical-align: middle;\n",
       "    }\n",
       "\n",
       "    .dataframe tbody tr th {\n",
       "        vertical-align: top;\n",
       "    }\n",
       "\n",
       "    .dataframe thead th {\n",
       "        text-align: right;\n",
       "    }\n",
       "</style>\n",
       "<table border=\"1\" class=\"dataframe\">\n",
       "  <thead>\n",
       "    <tr style=\"text-align: right;\">\n",
       "      <th></th>\n",
       "      <th>hhid</th>\n",
       "      <th>PID</th>\n",
       "      <th>sex</th>\n",
       "      <th>age</th>\n",
       "      <th>marital_status</th>\n",
       "      <th>waged_worker</th>\n",
       "      <th>business_owner</th>\n",
       "      <th>unpaid_hh_worker</th>\n",
       "      <th>apprentice</th>\n",
       "      <th>hh_farm_worker</th>\n",
       "      <th>...</th>\n",
       "      <th>numchild</th>\n",
       "      <th>gender</th>\n",
       "      <th>lw</th>\n",
       "      <th>sec_cat</th>\n",
       "      <th>ISCO</th>\n",
       "      <th>lmw</th>\n",
       "      <th>weight</th>\n",
       "      <th>employed</th>\n",
       "      <th>unique_person_id</th>\n",
       "      <th>Age_Grouping</th>\n",
       "    </tr>\n",
       "  </thead>\n",
       "  <tbody>\n",
       "    <tr>\n",
       "      <th>2</th>\n",
       "      <td>0007d1f1449242feb5a25429644fb991</td>\n",
       "      <td>2.0</td>\n",
       "      <td>2.0</td>\n",
       "      <td>24.0</td>\n",
       "      <td>5.0</td>\n",
       "      <td>1.0</td>\n",
       "      <td>2.0</td>\n",
       "      <td>2.0</td>\n",
       "      <td>2.0</td>\n",
       "      <td>1.0</td>\n",
       "      <td>...</td>\n",
       "      <td>2.0</td>\n",
       "      <td>1.0</td>\n",
       "      <td>NaN</td>\n",
       "      <td>4.0</td>\n",
       "      <td>23.0</td>\n",
       "      <td>NaN</td>\n",
       "      <td>2621.863747</td>\n",
       "      <td>1</td>\n",
       "      <td>0007d1f1449242feb5a25429644fb991_2.0</td>\n",
       "      <td>Group_15-24</td>\n",
       "    </tr>\n",
       "    <tr>\n",
       "      <th>3</th>\n",
       "      <td>0007d1f1449242feb5a25429644fb991</td>\n",
       "      <td>2.0</td>\n",
       "      <td>2.0</td>\n",
       "      <td>24.0</td>\n",
       "      <td>5.0</td>\n",
       "      <td>1.0</td>\n",
       "      <td>2.0</td>\n",
       "      <td>2.0</td>\n",
       "      <td>2.0</td>\n",
       "      <td>1.0</td>\n",
       "      <td>...</td>\n",
       "      <td>7.0</td>\n",
       "      <td>1.0</td>\n",
       "      <td>NaN</td>\n",
       "      <td>4.0</td>\n",
       "      <td>23.0</td>\n",
       "      <td>NaN</td>\n",
       "      <td>2621.863747</td>\n",
       "      <td>1</td>\n",
       "      <td>0007d1f1449242feb5a25429644fb991_2.0</td>\n",
       "      <td>Group_15-24</td>\n",
       "    </tr>\n",
       "  </tbody>\n",
       "</table>\n",
       "<p>2 rows × 24 columns</p>\n",
       "</div>"
      ],
      "text/plain": [
       "                               hhid  PID  sex   age  marital_status  \\\n",
       "2  0007d1f1449242feb5a25429644fb991  2.0  2.0  24.0             5.0   \n",
       "3  0007d1f1449242feb5a25429644fb991  2.0  2.0  24.0             5.0   \n",
       "\n",
       "   waged_worker  business_owner  unpaid_hh_worker  apprentice  hh_farm_worker  \\\n",
       "2           1.0             2.0               2.0         2.0             1.0   \n",
       "3           1.0             2.0               2.0         2.0             1.0   \n",
       "\n",
       "   ...  numchild  gender  lw  sec_cat  ISCO  lmw       weight  employed  \\\n",
       "2  ...       2.0     1.0 NaN      4.0  23.0  NaN  2621.863747         1   \n",
       "3  ...       7.0     1.0 NaN      4.0  23.0  NaN  2621.863747         1   \n",
       "\n",
       "                       unique_person_id  Age_Grouping  \n",
       "2  0007d1f1449242feb5a25429644fb991_2.0   Group_15-24  \n",
       "3  0007d1f1449242feb5a25429644fb991_2.0   Group_15-24  \n",
       "\n",
       "[2 rows x 24 columns]"
      ]
     },
     "execution_count": 369,
     "metadata": {},
     "output_type": "execute_result"
    }
   ],
   "source": [
    "bins= [0,15,25,35,45,55,65, 120]\n",
    "labels = ['Group_1-14','Group_15-24','Group_25-34','Group_35-44','Group_45-54', 'Group_55-64', 'Group_65-119']\n",
    "employed_pips['Age_Grouping'] = pd.cut(employed_pips['age'], bins=bins, labels=labels, right=False)\n",
    "employed_pips.head(2)"
   ]
  },
  {
   "cell_type": "code",
   "execution_count": 370,
   "id": "86fd9301",
   "metadata": {},
   "outputs": [],
   "source": [
    "gender_parting = employed_pips[['unique_person_id', 'age', 'sex', 'Age_Grouping']].copy()"
   ]
  },
  {
   "cell_type": "code",
   "execution_count": 371,
   "id": "c9cffa29",
   "metadata": {},
   "outputs": [
    {
     "data": {
      "text/html": [
       "<div>\n",
       "<style scoped>\n",
       "    .dataframe tbody tr th:only-of-type {\n",
       "        vertical-align: middle;\n",
       "    }\n",
       "\n",
       "    .dataframe tbody tr th {\n",
       "        vertical-align: top;\n",
       "    }\n",
       "\n",
       "    .dataframe thead th {\n",
       "        text-align: right;\n",
       "    }\n",
       "</style>\n",
       "<table border=\"1\" class=\"dataframe\">\n",
       "  <thead>\n",
       "    <tr style=\"text-align: right;\">\n",
       "      <th></th>\n",
       "      <th>unique_person_id</th>\n",
       "      <th>age</th>\n",
       "      <th>sex</th>\n",
       "      <th>Age_Grouping</th>\n",
       "    </tr>\n",
       "  </thead>\n",
       "  <tbody>\n",
       "    <tr>\n",
       "      <th>2</th>\n",
       "      <td>0007d1f1449242feb5a25429644fb991_2.0</td>\n",
       "      <td>24.0</td>\n",
       "      <td>2.0</td>\n",
       "      <td>Group_15-24</td>\n",
       "    </tr>\n",
       "    <tr>\n",
       "      <th>3</th>\n",
       "      <td>0007d1f1449242feb5a25429644fb991_2.0</td>\n",
       "      <td>24.0</td>\n",
       "      <td>2.0</td>\n",
       "      <td>Group_15-24</td>\n",
       "    </tr>\n",
       "  </tbody>\n",
       "</table>\n",
       "</div>"
      ],
      "text/plain": [
       "                       unique_person_id   age  sex Age_Grouping\n",
       "2  0007d1f1449242feb5a25429644fb991_2.0  24.0  2.0  Group_15-24\n",
       "3  0007d1f1449242feb5a25429644fb991_2.0  24.0  2.0  Group_15-24"
      ]
     },
     "execution_count": 371,
     "metadata": {},
     "output_type": "execute_result"
    }
   ],
   "source": [
    "gender_parting.head(2)"
   ]
  },
  {
   "cell_type": "code",
   "execution_count": 372,
   "id": "3c9d5bc5",
   "metadata": {},
   "outputs": [],
   "source": [
    "gender_parting_age = gender_parting.groupby(['Age_Grouping','sex']).count()[['unique_person_id']]\n",
    "gender_parting_age.to_excel('gender_parting.xlsx')"
   ]
  },
  {
   "cell_type": "code",
   "execution_count": 373,
   "id": "76b87ce6",
   "metadata": {},
   "outputs": [],
   "source": [
    "age_gender_parting = pd.read_excel('age_gender_parting.xlsx')"
   ]
  },
  {
   "cell_type": "code",
   "execution_count": 374,
   "id": "dd06029e",
   "metadata": {},
   "outputs": [
    {
     "data": {
      "text/html": [
       "<div>\n",
       "<style scoped>\n",
       "    .dataframe tbody tr th:only-of-type {\n",
       "        vertical-align: middle;\n",
       "    }\n",
       "\n",
       "    .dataframe tbody tr th {\n",
       "        vertical-align: top;\n",
       "    }\n",
       "\n",
       "    .dataframe thead th {\n",
       "        text-align: right;\n",
       "    }\n",
       "</style>\n",
       "<table border=\"1\" class=\"dataframe\">\n",
       "  <thead>\n",
       "    <tr style=\"text-align: right;\">\n",
       "      <th></th>\n",
       "      <th>Age_group</th>\n",
       "      <th>Men</th>\n",
       "      <th>Women</th>\n",
       "      <th>men_percentage</th>\n",
       "      <th>women_percentage</th>\n",
       "    </tr>\n",
       "  </thead>\n",
       "  <tbody>\n",
       "    <tr>\n",
       "      <th>1</th>\n",
       "      <td>Group_15-24</td>\n",
       "      <td>804</td>\n",
       "      <td>436</td>\n",
       "      <td>0.648387</td>\n",
       "      <td>0.351613</td>\n",
       "    </tr>\n",
       "    <tr>\n",
       "      <th>2</th>\n",
       "      <td>Group_25-34</td>\n",
       "      <td>962</td>\n",
       "      <td>662</td>\n",
       "      <td>0.592365</td>\n",
       "      <td>0.407635</td>\n",
       "    </tr>\n",
       "    <tr>\n",
       "      <th>3</th>\n",
       "      <td>Group_35-44</td>\n",
       "      <td>698</td>\n",
       "      <td>616</td>\n",
       "      <td>0.531202</td>\n",
       "      <td>0.468798</td>\n",
       "    </tr>\n",
       "    <tr>\n",
       "      <th>4</th>\n",
       "      <td>Group_45-54</td>\n",
       "      <td>548</td>\n",
       "      <td>398</td>\n",
       "      <td>0.579281</td>\n",
       "      <td>0.420719</td>\n",
       "    </tr>\n",
       "    <tr>\n",
       "      <th>5</th>\n",
       "      <td>Group_55-64</td>\n",
       "      <td>260</td>\n",
       "      <td>196</td>\n",
       "      <td>0.570175</td>\n",
       "      <td>0.429825</td>\n",
       "    </tr>\n",
       "    <tr>\n",
       "      <th>6</th>\n",
       "      <td>Group_65-119</td>\n",
       "      <td>139</td>\n",
       "      <td>110</td>\n",
       "      <td>0.558233</td>\n",
       "      <td>0.441767</td>\n",
       "    </tr>\n",
       "  </tbody>\n",
       "</table>\n",
       "</div>"
      ],
      "text/plain": [
       "      Age_group  Men  Women  men_percentage  women_percentage\n",
       "1   Group_15-24  804    436        0.648387          0.351613\n",
       "2   Group_25-34  962    662        0.592365          0.407635\n",
       "3   Group_35-44  698    616        0.531202          0.468798\n",
       "4   Group_45-54  548    398        0.579281          0.420719\n",
       "5   Group_55-64  260    196        0.570175          0.429825\n",
       "6  Group_65-119  139    110        0.558233          0.441767"
      ]
     },
     "execution_count": 374,
     "metadata": {},
     "output_type": "execute_result"
    }
   ],
   "source": [
    "age_gender_parting['men_percentage'] = age_gender_parting['Men']/(age_gender_parting['Men'] + age_gender_parting['Women'])\n",
    "age_gender_parting['women_percentage'] = age_gender_parting['Women']/(age_gender_parting['Men'] + age_gender_parting['Women'])\n",
    "age_gender_parting = age_gender_parting[age_gender_parting['Age_group']!='Group_1-14']\n",
    "age_gender_parting"
   ]
  },
  {
   "cell_type": "code",
   "execution_count": 375,
   "id": "e2ad6f30",
   "metadata": {},
   "outputs": [],
   "source": [
    "# import matplotlib.pyplot as plt\n",
    "# fig,ax = plt.subplots()\n",
    "# ax.plot(age_gender_parting['Age_group'], age_gender_parting['men_percentage'])\n",
    "# plt.show()"
   ]
  },
  {
   "cell_type": "code",
   "execution_count": 377,
   "id": "8a0d76b6",
   "metadata": {},
   "outputs": [
    {
     "data": {
      "text/plain": [
       "<AxesSubplot:xlabel='Age_group'>"
      ]
     },
     "execution_count": 377,
     "metadata": {},
     "output_type": "execute_result"
    },
    {
     "data": {
      "image/png": "[encoded data removed]",
      "text/plain": [
       "<Figure size 400x300 with 1 Axes>"
      ]
     },
     "metadata": {},
     "output_type": "display_data"
    }
   ],
   "source": [
    "age_gender_parting.plot(x=\"Age_group\", y=[\"men_percentage\", \"women_percentage\"], kind=\"bar\", figsize=(4, 3))"
   ]
  },
  {
   "cell_type": "markdown",
   "id": "290673a2",
   "metadata": {},
   "source": [
    "### Sector split"
   ]
  },
  {
   "cell_type": "code",
   "execution_count": 378,
   "id": "20a26087",
   "metadata": {},
   "outputs": [],
   "source": [
    "ISCO_parting = employed_pips[['unique_person_id', 'sex', 'ISCO']].copy()"
   ]
  },
  {
   "cell_type": "code",
   "execution_count": 379,
   "id": "b1f54453",
   "metadata": {},
   "outputs": [
    {
     "data": {
      "text/plain": [
       "(5940, 3)"
      ]
     },
     "execution_count": 379,
     "metadata": {},
     "output_type": "execute_result"
    }
   ],
   "source": [
    "ISCO_parting.shape"
   ]
  },
  {
   "cell_type": "code",
   "execution_count": 338,
   "id": "fd62eb10",
   "metadata": {},
   "outputs": [],
   "source": [
    "ISCO_parting = ISCO_parting.groupby(['ISCO', 'sex']).count()"
   ]
  },
  {
   "cell_type": "markdown",
   "id": "d80bc7ef",
   "metadata": {},
   "source": [
    "### Education levels"
   ]
  },
  {
   "cell_type": "code",
   "execution_count": 380,
   "id": "cc2fd39e",
   "metadata": {},
   "outputs": [],
   "source": [
    "# education, sex, hourly rate\n",
    "gender_educ_wage = employed_pips[['unique_person_id', 'education_levels','sex', 'hourly_wage', 'monthly_wage', 'lw', 'lmw', 'weight']]"
   ]
  },
  {
   "cell_type": "code",
   "execution_count": 381,
   "id": "dcf7db64",
   "metadata": {},
   "outputs": [
    {
     "data": {
      "text/plain": [
       "(5940, 8)"
      ]
     },
     "execution_count": 381,
     "metadata": {},
     "output_type": "execute_result"
    }
   ],
   "source": [
    "gender_educ_wage.shape"
   ]
  },
  {
   "cell_type": "code",
   "execution_count": 476,
   "id": "179bf219",
   "metadata": {},
   "outputs": [],
   "source": [
    "hourwage_gender = gender_educ_wage[gender_educ_wage['hourly_wage'].notna()]"
   ]
  },
  {
   "cell_type": "code",
   "execution_count": 484,
   "id": "748eeff5",
   "metadata": {},
   "outputs": [],
   "source": [
    "hourwage_gender = hourwage_gender[hourwage_gender['hourly_wage']!=0].copy()"
   ]
  },
  {
   "cell_type": "code",
   "execution_count": 485,
   "id": "16b31415",
   "metadata": {},
   "outputs": [],
   "source": [
    "def weighted_average(dataframe, value, weight):\n",
    "    val = dataframe[value]\n",
    "    wt = dataframe[weight]\n",
    "    return (val * wt).sum() / wt.sum()"
   ]
  },
  {
   "cell_type": "code",
   "execution_count": 486,
   "id": "c6a4c045",
   "metadata": {},
   "outputs": [
    {
     "data": {
      "text/html": [
       "<div>\n",
       "<style scoped>\n",
       "    .dataframe tbody tr th:only-of-type {\n",
       "        vertical-align: middle;\n",
       "    }\n",
       "\n",
       "    .dataframe tbody tr th {\n",
       "        vertical-align: top;\n",
       "    }\n",
       "\n",
       "    .dataframe thead th {\n",
       "        text-align: right;\n",
       "    }\n",
       "</style>\n",
       "<table border=\"1\" class=\"dataframe\">\n",
       "  <thead>\n",
       "    <tr style=\"text-align: right;\">\n",
       "      <th></th>\n",
       "      <th>unique_person_id</th>\n",
       "      <th>education_levels</th>\n",
       "      <th>sex</th>\n",
       "      <th>hourly_wage</th>\n",
       "      <th>monthly_wage</th>\n",
       "      <th>lw</th>\n",
       "      <th>lmw</th>\n",
       "      <th>weight</th>\n",
       "      <th>weighted_wage</th>\n",
       "    </tr>\n",
       "  </thead>\n",
       "  <tbody>\n",
       "    <tr>\n",
       "      <th>26</th>\n",
       "      <td>003ed8d32f794609919d60d2ed8813e8_1.0</td>\n",
       "      <td>NaN</td>\n",
       "      <td>2.0</td>\n",
       "      <td>700.0</td>\n",
       "      <td>56000.0</td>\n",
       "      <td>6.551080</td>\n",
       "      <td>10.933107</td>\n",
       "      <td>888.204770</td>\n",
       "      <td>6.217433e+05</td>\n",
       "    </tr>\n",
       "    <tr>\n",
       "      <th>27</th>\n",
       "      <td>003ed8d32f794609919d60d2ed8813e8_1.0</td>\n",
       "      <td>NaN</td>\n",
       "      <td>2.0</td>\n",
       "      <td>700.0</td>\n",
       "      <td>56000.0</td>\n",
       "      <td>6.551080</td>\n",
       "      <td>10.933107</td>\n",
       "      <td>888.204770</td>\n",
       "      <td>6.217433e+05</td>\n",
       "    </tr>\n",
       "    <tr>\n",
       "      <th>32</th>\n",
       "      <td>003ed8d32f794609919d60d2ed8813e8_4.0</td>\n",
       "      <td>NaN</td>\n",
       "      <td>1.0</td>\n",
       "      <td>700.0</td>\n",
       "      <td>56000.0</td>\n",
       "      <td>6.551080</td>\n",
       "      <td>10.933107</td>\n",
       "      <td>888.204770</td>\n",
       "      <td>6.217433e+05</td>\n",
       "    </tr>\n",
       "    <tr>\n",
       "      <th>33</th>\n",
       "      <td>003ed8d32f794609919d60d2ed8813e8_4.0</td>\n",
       "      <td>NaN</td>\n",
       "      <td>1.0</td>\n",
       "      <td>700.0</td>\n",
       "      <td>56000.0</td>\n",
       "      <td>6.551080</td>\n",
       "      <td>10.933107</td>\n",
       "      <td>888.204770</td>\n",
       "      <td>6.217433e+05</td>\n",
       "    </tr>\n",
       "    <tr>\n",
       "      <th>116</th>\n",
       "      <td>0142f6f0c8f9435c97ac2563a6f390ec_1.0</td>\n",
       "      <td>1.0</td>\n",
       "      <td>1.0</td>\n",
       "      <td>37500.0</td>\n",
       "      <td>6000000.0</td>\n",
       "      <td>10.532096</td>\n",
       "      <td>15.607270</td>\n",
       "      <td>3036.227677</td>\n",
       "      <td>1.138585e+08</td>\n",
       "    </tr>\n",
       "  </tbody>\n",
       "</table>\n",
       "</div>"
      ],
      "text/plain": [
       "                         unique_person_id  education_levels  sex  hourly_wage  \\\n",
       "26   003ed8d32f794609919d60d2ed8813e8_1.0               NaN  2.0        700.0   \n",
       "27   003ed8d32f794609919d60d2ed8813e8_1.0               NaN  2.0        700.0   \n",
       "32   003ed8d32f794609919d60d2ed8813e8_4.0               NaN  1.0        700.0   \n",
       "33   003ed8d32f794609919d60d2ed8813e8_4.0               NaN  1.0        700.0   \n",
       "116  0142f6f0c8f9435c97ac2563a6f390ec_1.0               1.0  1.0      37500.0   \n",
       "\n",
       "     monthly_wage         lw        lmw       weight  weighted_wage  \n",
       "26        56000.0   6.551080  10.933107   888.204770   6.217433e+05  \n",
       "27        56000.0   6.551080  10.933107   888.204770   6.217433e+05  \n",
       "32        56000.0   6.551080  10.933107   888.204770   6.217433e+05  \n",
       "33        56000.0   6.551080  10.933107   888.204770   6.217433e+05  \n",
       "116     6000000.0  10.532096  15.607270  3036.227677   1.138585e+08  "
      ]
     },
     "execution_count": 486,
     "metadata": {},
     "output_type": "execute_result"
    }
   ],
   "source": [
    "hourwage_gender.head()"
   ]
  },
  {
   "cell_type": "code",
   "execution_count": 487,
   "id": "6efb7a19",
   "metadata": {},
   "outputs": [],
   "source": [
    "hourwage_gender['weighted_wage'] = hourwage_gender['hourly_wage']*hourwage_gender['weight']"
   ]
  },
  {
   "cell_type": "code",
   "execution_count": 488,
   "id": "22390cbf",
   "metadata": {},
   "outputs": [],
   "source": [
    "hourwage_gender['log_hour_weighted'] = np.log10(hourwage_gender['weighted_wage'])"
   ]
  },
  {
   "cell_type": "code",
   "execution_count": 491,
   "id": "54d6fb7f",
   "metadata": {},
   "outputs": [
    {
     "data": {
      "text/plain": [
       "education_levels  sex\n",
       "1.0               1.0    6.994125\n",
       "                  2.0    6.877685\n",
       "2.0               1.0    7.125642\n",
       "                  2.0    7.213433\n",
       "3.0               1.0    7.827704\n",
       "                  2.0    6.863753\n",
       "4.0               1.0    7.777142\n",
       "                  2.0    8.075357\n",
       "Name: log_hour_weighted, dtype: float64"
      ]
     },
     "execution_count": 491,
     "metadata": {},
     "output_type": "execute_result"
    }
   ],
   "source": [
    "hwg_2 = hourwage_gender.groupby(['education_levels', 'sex'])['log_hour_weighted'].mean()\n",
    "hwg_2"
   ]
  },
  {
   "cell_type": "code",
   "execution_count": 404,
   "id": "e34a65ce",
   "metadata": {},
   "outputs": [],
   "source": [
    "# gender_educ_hwage = gender_educ_hwage_.groupby(['education_levels', 'sex'])['lw'].mean()\n",
    "# gender_educ_hwage\n"
   ]
  },
  {
   "cell_type": "code",
   "execution_count": 497,
   "id": "8cd194f1",
   "metadata": {},
   "outputs": [],
   "source": [
    "hwg = hourwage_gender.groupby(['education_levels', 'sex']).apply(weighted_average,\n",
    "                                     'lw', 'weight')"
   ]
  },
  {
   "cell_type": "code",
   "execution_count": 441,
   "id": "769a4adb",
   "metadata": {},
   "outputs": [],
   "source": [
    "hwg_ = pd.DataFrame(hwg).reset_index()\n",
    "hwg_ = hwg_.rename(columns={0: 'weighted_hourly_log'})\n",
    "hwg_ = hwg_.pivot(index='education_levels', columns='sex', values='weighted_hourly_log')\n",
    "h = pd.DataFrame(hwg_.reset_index())"
   ]
  },
  {
   "cell_type": "code",
   "execution_count": 444,
   "id": "6fd9ad12",
   "metadata": {},
   "outputs": [],
   "source": [
    "h=h.rename(columns={1.0: 'Men_hourly', 2.0: 'Women_hourly'})\n",
    "h['gender_diff'] = (h['Women_hourly'] - h['Men_hourly'])*100"
   ]
  },
  {
   "cell_type": "code",
   "execution_count": 445,
   "id": "0b5e2d21",
   "metadata": {},
   "outputs": [
    {
     "data": {
      "text/html": [
       "<div>\n",
       "<style scoped>\n",
       "    .dataframe tbody tr th:only-of-type {\n",
       "        vertical-align: middle;\n",
       "    }\n",
       "\n",
       "    .dataframe tbody tr th {\n",
       "        vertical-align: top;\n",
       "    }\n",
       "\n",
       "    .dataframe thead th {\n",
       "        text-align: right;\n",
       "    }\n",
       "</style>\n",
       "<table border=\"1\" class=\"dataframe\">\n",
       "  <thead>\n",
       "    <tr style=\"text-align: right;\">\n",
       "      <th>sex</th>\n",
       "      <th>education_levels</th>\n",
       "      <th>Men_hourly</th>\n",
       "      <th>Women_hourly</th>\n",
       "      <th>gender_diff</th>\n",
       "    </tr>\n",
       "  </thead>\n",
       "  <tbody>\n",
       "    <tr>\n",
       "      <th>0</th>\n",
       "      <td>1.0</td>\n",
       "      <td>8.237790</td>\n",
       "      <td>8.194454</td>\n",
       "      <td>-4.333581</td>\n",
       "    </tr>\n",
       "    <tr>\n",
       "      <th>1</th>\n",
       "      <td>2.0</td>\n",
       "      <td>8.982848</td>\n",
       "      <td>9.443338</td>\n",
       "      <td>46.049072</td>\n",
       "    </tr>\n",
       "    <tr>\n",
       "      <th>2</th>\n",
       "      <td>3.0</td>\n",
       "      <td>9.397793</td>\n",
       "      <td>8.875644</td>\n",
       "      <td>-52.214847</td>\n",
       "    </tr>\n",
       "    <tr>\n",
       "      <th>3</th>\n",
       "      <td>4.0</td>\n",
       "      <td>9.785705</td>\n",
       "      <td>9.656628</td>\n",
       "      <td>-12.907696</td>\n",
       "    </tr>\n",
       "  </tbody>\n",
       "</table>\n",
       "</div>"
      ],
      "text/plain": [
       "sex  education_levels  Men_hourly  Women_hourly  gender_diff\n",
       "0                 1.0    8.237790      8.194454    -4.333581\n",
       "1                 2.0    8.982848      9.443338    46.049072\n",
       "2                 3.0    9.397793      8.875644   -52.214847\n",
       "3                 4.0    9.785705      9.656628   -12.907696"
      ]
     },
     "execution_count": 445,
     "metadata": {},
     "output_type": "execute_result"
    }
   ],
   "source": [
    "h"
   ]
  },
  {
   "cell_type": "code",
   "execution_count": 385,
   "id": "b6eeddbd",
   "metadata": {},
   "outputs": [
    {
     "data": {
      "text/plain": [
       "(518, 9)"
      ]
     },
     "execution_count": 385,
     "metadata": {},
     "output_type": "execute_result"
    }
   ],
   "source": [
    "gender_educ_hwage_.shape"
   ]
  },
  {
   "cell_type": "code",
   "execution_count": 313,
   "id": "bb45fc35",
   "metadata": {},
   "outputs": [
    {
     "data": {
      "text/html": [
       "<div>\n",
       "<style scoped>\n",
       "    .dataframe tbody tr th:only-of-type {\n",
       "        vertical-align: middle;\n",
       "    }\n",
       "\n",
       "    .dataframe tbody tr th {\n",
       "        vertical-align: top;\n",
       "    }\n",
       "\n",
       "    .dataframe thead th {\n",
       "        text-align: right;\n",
       "    }\n",
       "</style>\n",
       "<table border=\"1\" class=\"dataframe\">\n",
       "  <thead>\n",
       "    <tr style=\"text-align: right;\">\n",
       "      <th></th>\n",
       "      <th>education_levels</th>\n",
       "      <th>sex</th>\n",
       "      <th>lmw</th>\n",
       "    </tr>\n",
       "  </thead>\n",
       "  <tbody>\n",
       "    <tr>\n",
       "      <th>0</th>\n",
       "      <td>1.0</td>\n",
       "      <td>1.0</td>\n",
       "      <td>13.17960</td>\n",
       "    </tr>\n",
       "    <tr>\n",
       "      <th>1</th>\n",
       "      <td>1.0</td>\n",
       "      <td>2.0</td>\n",
       "      <td>12.56581</td>\n",
       "    </tr>\n",
       "    <tr>\n",
       "      <th>2</th>\n",
       "      <td>2.0</td>\n",
       "      <td>1.0</td>\n",
       "      <td>13.80264</td>\n",
       "    </tr>\n",
       "    <tr>\n",
       "      <th>3</th>\n",
       "      <td>2.0</td>\n",
       "      <td>2.0</td>\n",
       "      <td>13.48705</td>\n",
       "    </tr>\n",
       "    <tr>\n",
       "      <th>4</th>\n",
       "      <td>3.0</td>\n",
       "      <td>1.0</td>\n",
       "      <td>14.57416</td>\n",
       "    </tr>\n",
       "    <tr>\n",
       "      <th>5</th>\n",
       "      <td>3.0</td>\n",
       "      <td>2.0</td>\n",
       "      <td>13.91297</td>\n",
       "    </tr>\n",
       "    <tr>\n",
       "      <th>6</th>\n",
       "      <td>4.0</td>\n",
       "      <td>1.0</td>\n",
       "      <td>14.97866</td>\n",
       "    </tr>\n",
       "    <tr>\n",
       "      <th>7</th>\n",
       "      <td>4.0</td>\n",
       "      <td>2.0</td>\n",
       "      <td>14.50866</td>\n",
       "    </tr>\n",
       "  </tbody>\n",
       "</table>\n",
       "</div>"
      ],
      "text/plain": [
       "   education_levels  sex       lmw\n",
       "0               1.0  1.0  13.17960\n",
       "1               1.0  2.0  12.56581\n",
       "2               2.0  1.0  13.80264\n",
       "3               2.0  2.0  13.48705\n",
       "4               3.0  1.0  14.57416\n",
       "5               3.0  2.0  13.91297\n",
       "6               4.0  1.0  14.97866\n",
       "7               4.0  2.0  14.50866"
      ]
     },
     "execution_count": 313,
     "metadata": {},
     "output_type": "execute_result"
    }
   ],
   "source": [
    "gender_educ_mwage_ = gender_educ_wage[gender_educ_wage['monthly_wage'].notna()].copy()\n",
    "gender_educ_mwage = gender_educ_mwage_.groupby(['education_levels', 'sex'])['lmw'].mean()\n",
    "m = pd.DataFrame(gender_educ_mwage.round(5))\n",
    "m.reset_index()"
   ]
  },
  {
   "cell_type": "code",
   "execution_count": 391,
   "id": "5c5ac329",
   "metadata": {},
   "outputs": [
    {
     "data": {
      "text/html": [
       "<div>\n",
       "<style scoped>\n",
       "    .dataframe tbody tr th:only-of-type {\n",
       "        vertical-align: middle;\n",
       "    }\n",
       "\n",
       "    .dataframe tbody tr th {\n",
       "        vertical-align: top;\n",
       "    }\n",
       "\n",
       "    .dataframe thead th {\n",
       "        text-align: right;\n",
       "    }\n",
       "</style>\n",
       "<table border=\"1\" class=\"dataframe\">\n",
       "  <thead>\n",
       "    <tr style=\"text-align: right;\">\n",
       "      <th></th>\n",
       "      <th>education_levels</th>\n",
       "      <th>sex</th>\n",
       "      <th>weighted_log</th>\n",
       "    </tr>\n",
       "  </thead>\n",
       "  <tbody>\n",
       "    <tr>\n",
       "      <th>0</th>\n",
       "      <td>1</td>\n",
       "      <td>1</td>\n",
       "      <td>0.005853</td>\n",
       "    </tr>\n",
       "    <tr>\n",
       "      <th>1</th>\n",
       "      <td>1</td>\n",
       "      <td>2</td>\n",
       "      <td>0.005979</td>\n",
       "    </tr>\n",
       "    <tr>\n",
       "      <th>2</th>\n",
       "      <td>2</td>\n",
       "      <td>1</td>\n",
       "      <td>0.007201</td>\n",
       "    </tr>\n",
       "    <tr>\n",
       "      <th>3</th>\n",
       "      <td>2</td>\n",
       "      <td>2</td>\n",
       "      <td>0.004883</td>\n",
       "    </tr>\n",
       "    <tr>\n",
       "      <th>4</th>\n",
       "      <td>3</td>\n",
       "      <td>1</td>\n",
       "      <td>0.004884</td>\n",
       "    </tr>\n",
       "  </tbody>\n",
       "</table>\n",
       "</div>"
      ],
      "text/plain": [
       "   education_levels  sex  weighted_log\n",
       "0                 1    1      0.005853\n",
       "1                 1    2      0.005979\n",
       "2                 2    1      0.007201\n",
       "3                 2    2      0.004883\n",
       "4                 3    1      0.004884"
      ]
     },
     "execution_count": 391,
     "metadata": {},
     "output_type": "execute_result"
    }
   ],
   "source": [
    "gender_ed = pd.read_excel('gender_hourly.xlsx', index_col=[0])\n",
    "gender_ed.head()"
   ]
  },
  {
   "cell_type": "code",
   "execution_count": 189,
   "id": "e6fbd80e",
   "metadata": {},
   "outputs": [
    {
     "data": {
      "text/plain": [
       "(536, 6)"
      ]
     },
     "execution_count": 189,
     "metadata": {},
     "output_type": "execute_result"
    }
   ],
   "source": [
    "gender_educ_mwage_.shape"
   ]
  },
  {
   "cell_type": "code",
   "execution_count": null,
   "id": "8024719d",
   "metadata": {},
   "outputs": [],
   "source": [
    "import pandas as pd\n",
    "import matplotlib.pyplot as plt\n",
    "\n",
    "d = {'Age': [23, 43, 32, 51, 29], \n",
    "     'Sex': ['m', 'm', 'f', 'f', 'm'],\n",
    "     'disease': [0, 1, 0, 1, 1]}\n",
    "df = pd.DataFrame(data=d)\n",
    "\n",
    "df_pivot = pd.pivot_table(\n",
    "    df,\n",
    "    index=\"Sex\",\n",
    "    columns=\"disease\",\n",
    "    values=\"disease\",\n",
    "    aggfunc='count')\n",
    "\n",
    "fig, ax = plt.subplots()\n",
    "df_pivot.plot(kind=\"bar\", ax=ax)\n",
    "ax.legend([\"Normal\", \"Heart Disease\"]);\n",
    "ax.tick_params(axis='x', rotation=0)\n",
    "ax.set_ylabel(\"count\")"
   ]
  },
  {
   "cell_type": "code",
   "execution_count": 141,
   "id": "0ce6f91c",
   "metadata": {
    "scrolled": false
   },
   "outputs": [
    {
     "data": {
      "text/plain": [
       "<AxesSubplot:>"
      ]
     },
     "execution_count": 141,
     "metadata": {},
     "output_type": "execute_result"
    },
    {
     "data": {
      "image/png": "[encoded data removed]",
      "text/plain": [
       "<Figure size 1000x600 with 1 Axes>"
      ]
     },
     "metadata": {},
     "output_type": "display_data"
    }
   ],
   "source": [
    "ISCO_parting.plot(kind='bar', figsize=(10, 6))"
   ]
  },
  {
   "cell_type": "code",
   "execution_count": 5,
   "id": "2b1b583b",
   "metadata": {},
   "outputs": [],
   "source": [
    "trans_data = raw_data.copy(deep=True)\n",
    "trans_data = trans_data.rename(columns={'s8q36a': 'Mon_hrs', 's8q36b': 'Tue_hrs',\n",
    "                                        's8q36c': 'Wed_hrs', 's8q36d': 'Thu_hrs', \n",
    "                                        's8q36e': 'Fri_hrs', 's8q77': 'payment_method',\n",
    "                                       's8q31a': 'payment', 's8q31c': 'payment_periodicity',\n",
    "                                       's8q78': 'last_month_payment'})"
   ]
  },
  {
   "cell_type": "code",
   "execution_count": 6,
   "id": "2b31f828",
   "metadata": {},
   "outputs": [],
   "source": [
    "payment_data = trans_data[['hhid', 'PID', 'Mon_hrs', 'Tue_hrs', 'Wed_hrs', 'Thu_hrs', 'Fri_hrs', 'payment_method', 'payment_periodicity','payment','last_month_payment']].copy()"
   ]
  },
  {
   "cell_type": "code",
   "execution_count": 7,
   "id": "8b0e6731",
   "metadata": {},
   "outputs": [],
   "source": [
    "week_hrs = ['Mon_hrs', 'Tue_hrs', 'Wed_hrs' , 'Thu_hrs', 'Fri_hrs']\n",
    "payment_data['weekly_hours'] = payment_data[week_hrs].sum(axis=1)"
   ]
  },
  {
   "cell_type": "code",
   "execution_count": 10,
   "id": "37f7a1bb",
   "metadata": {},
   "outputs": [],
   "source": [
    "scale_mapper = {1:'hourly', 2:'daily', 3: 'weekly', 4: 'monthly'}\n",
    "payment_data[\"payment_periodicity\"] = payment_data[\"payment_periodicity\"].replace(scale_mapper)"
   ]
  },
  {
   "cell_type": "code",
   "execution_count": 11,
   "id": "0d7186b6",
   "metadata": {},
   "outputs": [],
   "source": [
    "pay_method ={1 : 'set rate', 2: 'both set rate and commission',3:'commission on the basis of sales', 4:'in kind only',\n",
    "             96:'some other way'}\n",
    "payment_data[\"payment_method\"] = payment_data[\"payment_method\"].replace(pay_method)"
   ]
  },
  {
   "cell_type": "code",
   "execution_count": 12,
   "id": "e490ba68",
   "metadata": {},
   "outputs": [],
   "source": [
    "monthly_earners = payment_data[payment_data['payment_periodicity']=='weekly']"
   ]
  },
  {
   "cell_type": "code",
   "execution_count": 13,
   "id": "e9233a2c",
   "metadata": {},
   "outputs": [],
   "source": [
    "employment_xtics = raw_data[['hhid', 'PID' ,'h2q8', 'h2q3']].copy(deep=True)\n",
    "employment_xtics['unique_person_id'] = employment_xtics['hhid'].astype(str) + '_' + employment_xtics['PID'].astype(str)\n",
    "employment_xtics = employment_xtics.rename(columns={'h2q8':'Age', 'h2q3': 'Sex'})"
   ]
  },
  {
   "cell_type": "code",
   "execution_count": 14,
   "id": "47a16354",
   "metadata": {},
   "outputs": [],
   "source": [
    "employment_xtics = employment_xtics.dropna(subset=['PID']).copy()"
   ]
  },
  {
   "cell_type": "code",
   "execution_count": 15,
   "id": "e422667c",
   "metadata": {},
   "outputs": [
    {
     "data": {
      "text/html": [
       "<div>\n",
       "<style scoped>\n",
       "    .dataframe tbody tr th:only-of-type {\n",
       "        vertical-align: middle;\n",
       "    }\n",
       "\n",
       "    .dataframe tbody tr th {\n",
       "        vertical-align: top;\n",
       "    }\n",
       "\n",
       "    .dataframe thead th {\n",
       "        text-align: right;\n",
       "    }\n",
       "</style>\n",
       "<table border=\"1\" class=\"dataframe\">\n",
       "  <thead>\n",
       "    <tr style=\"text-align: right;\">\n",
       "      <th></th>\n",
       "      <th>hhid</th>\n",
       "      <th>PID</th>\n",
       "      <th>Age</th>\n",
       "      <th>Sex</th>\n",
       "      <th>unique_person_id</th>\n",
       "      <th>Age_Grouping</th>\n",
       "    </tr>\n",
       "  </thead>\n",
       "  <tbody>\n",
       "    <tr>\n",
       "      <th>0</th>\n",
       "      <td>0007d1f1449242feb5a25429644fb991</td>\n",
       "      <td>1.0</td>\n",
       "      <td>51.0</td>\n",
       "      <td>2.0</td>\n",
       "      <td>0007d1f1449242feb5a25429644fb991_1.0</td>\n",
       "      <td>Group_45-54</td>\n",
       "    </tr>\n",
       "    <tr>\n",
       "      <th>1</th>\n",
       "      <td>0007d1f1449242feb5a25429644fb991</td>\n",
       "      <td>2.0</td>\n",
       "      <td>24.0</td>\n",
       "      <td>2.0</td>\n",
       "      <td>0007d1f1449242feb5a25429644fb991_2.0</td>\n",
       "      <td>Group_15-24</td>\n",
       "    </tr>\n",
       "  </tbody>\n",
       "</table>\n",
       "</div>"
      ],
      "text/plain": [
       "                               hhid  PID   Age  Sex  \\\n",
       "0  0007d1f1449242feb5a25429644fb991  1.0  51.0  2.0   \n",
       "1  0007d1f1449242feb5a25429644fb991  2.0  24.0  2.0   \n",
       "\n",
       "                       unique_person_id Age_Grouping  \n",
       "0  0007d1f1449242feb5a25429644fb991_1.0  Group_45-54  \n",
       "1  0007d1f1449242feb5a25429644fb991_2.0  Group_15-24  "
      ]
     },
     "execution_count": 15,
     "metadata": {},
     "output_type": "execute_result"
    }
   ],
   "source": [
    "bins= [0,15,25,35,45,55,65, 120]\n",
    "labels = ['Group_1-14','Group_15-24','Group_25-34','Group_35-44','Group_45-54', 'Group_55-64', 'Group_65-119']\n",
    "employment_xtics['Age_Grouping'] = pd.cut(employment_xtics['Age'], bins=bins, labels=labels, right=False)\n",
    "employment_xtics.head(2)"
   ]
  },
  {
   "cell_type": "code",
   "execution_count": 16,
   "id": "8e78e06c",
   "metadata": {},
   "outputs": [],
   "source": [
    "employment_xtics['Age_Grouping'] = employment_xtics['Age_Grouping'].cat.add_categories('outlier').fillna('outlier')"
   ]
  },
  {
   "cell_type": "code",
   "execution_count": 17,
   "id": "445827de",
   "metadata": {},
   "outputs": [
    {
     "data": {
      "text/html": [
       "<div>\n",
       "<style scoped>\n",
       "    .dataframe tbody tr th:only-of-type {\n",
       "        vertical-align: middle;\n",
       "    }\n",
       "\n",
       "    .dataframe tbody tr th {\n",
       "        vertical-align: top;\n",
       "    }\n",
       "\n",
       "    .dataframe thead th {\n",
       "        text-align: right;\n",
       "    }\n",
       "</style>\n",
       "<table border=\"1\" class=\"dataframe\">\n",
       "  <thead>\n",
       "    <tr style=\"text-align: right;\">\n",
       "      <th></th>\n",
       "      <th>hhid</th>\n",
       "      <th>PID</th>\n",
       "      <th>Age</th>\n",
       "      <th>Sex</th>\n",
       "      <th>unique_person_id</th>\n",
       "      <th>Age_Grouping</th>\n",
       "    </tr>\n",
       "  </thead>\n",
       "  <tbody>\n",
       "  </tbody>\n",
       "</table>\n",
       "</div>"
      ],
      "text/plain": [
       "Empty DataFrame\n",
       "Columns: [hhid, PID, Age, Sex, unique_person_id, Age_Grouping]\n",
       "Index: []"
      ]
     },
     "execution_count": 17,
     "metadata": {},
     "output_type": "execute_result"
    }
   ],
   "source": [
    "# Remove nans\n",
    "outliers = employment_xtics[ employment_xtics['Age_Grouping'] == 'outlier']\n",
    "outliers"
   ]
  },
  {
   "cell_type": "code",
   "execution_count": 18,
   "id": "05c0da6e",
   "metadata": {},
   "outputs": [],
   "source": [
    "employment_xtics['age_grouping'] = employment_xtics.groupby('Age_Grouping')['Age'].transform('count')"
   ]
  },
  {
   "cell_type": "code",
   "execution_count": 19,
   "id": "f7b3c1aa",
   "metadata": {},
   "outputs": [
    {
     "data": {
      "text/html": [
       "<div>\n",
       "<style scoped>\n",
       "    .dataframe tbody tr th:only-of-type {\n",
       "        vertical-align: middle;\n",
       "    }\n",
       "\n",
       "    .dataframe tbody tr th {\n",
       "        vertical-align: top;\n",
       "    }\n",
       "\n",
       "    .dataframe thead th {\n",
       "        text-align: right;\n",
       "    }\n",
       "</style>\n",
       "<table border=\"1\" class=\"dataframe\">\n",
       "  <thead>\n",
       "    <tr style=\"text-align: right;\">\n",
       "      <th></th>\n",
       "      <th>hhid</th>\n",
       "      <th>PID</th>\n",
       "      <th>Age</th>\n",
       "      <th>Sex</th>\n",
       "      <th>unique_person_id</th>\n",
       "      <th>age_grouping</th>\n",
       "    </tr>\n",
       "    <tr>\n",
       "      <th>Age_Grouping</th>\n",
       "      <th></th>\n",
       "      <th></th>\n",
       "      <th></th>\n",
       "      <th></th>\n",
       "      <th></th>\n",
       "      <th></th>\n",
       "    </tr>\n",
       "  </thead>\n",
       "  <tbody>\n",
       "    <tr>\n",
       "      <th>Group_1-14</th>\n",
       "      <td>5762</td>\n",
       "      <td>5762</td>\n",
       "      <td>5762</td>\n",
       "      <td>5762</td>\n",
       "      <td>5762</td>\n",
       "      <td>5762</td>\n",
       "    </tr>\n",
       "    <tr>\n",
       "      <th>Group_15-24</th>\n",
       "      <td>3300</td>\n",
       "      <td>3300</td>\n",
       "      <td>3300</td>\n",
       "      <td>3300</td>\n",
       "      <td>3300</td>\n",
       "      <td>3300</td>\n",
       "    </tr>\n",
       "    <tr>\n",
       "      <th>Group_25-34</th>\n",
       "      <td>1681</td>\n",
       "      <td>1681</td>\n",
       "      <td>1681</td>\n",
       "      <td>1681</td>\n",
       "      <td>1681</td>\n",
       "      <td>1681</td>\n",
       "    </tr>\n",
       "    <tr>\n",
       "      <th>Group_35-44</th>\n",
       "      <td>1287</td>\n",
       "      <td>1287</td>\n",
       "      <td>1287</td>\n",
       "      <td>1287</td>\n",
       "      <td>1287</td>\n",
       "      <td>1287</td>\n",
       "    </tr>\n",
       "    <tr>\n",
       "      <th>Group_45-54</th>\n",
       "      <td>1038</td>\n",
       "      <td>1038</td>\n",
       "      <td>1038</td>\n",
       "      <td>1038</td>\n",
       "      <td>1038</td>\n",
       "      <td>1038</td>\n",
       "    </tr>\n",
       "    <tr>\n",
       "      <th>Group_55-64</th>\n",
       "      <td>704</td>\n",
       "      <td>704</td>\n",
       "      <td>704</td>\n",
       "      <td>704</td>\n",
       "      <td>704</td>\n",
       "      <td>704</td>\n",
       "    </tr>\n",
       "    <tr>\n",
       "      <th>Group_65-119</th>\n",
       "      <td>722</td>\n",
       "      <td>722</td>\n",
       "      <td>722</td>\n",
       "      <td>722</td>\n",
       "      <td>722</td>\n",
       "      <td>722</td>\n",
       "    </tr>\n",
       "    <tr>\n",
       "      <th>outlier</th>\n",
       "      <td>0</td>\n",
       "      <td>0</td>\n",
       "      <td>0</td>\n",
       "      <td>0</td>\n",
       "      <td>0</td>\n",
       "      <td>0</td>\n",
       "    </tr>\n",
       "  </tbody>\n",
       "</table>\n",
       "</div>"
      ],
      "text/plain": [
       "              hhid   PID   Age   Sex  unique_person_id  age_grouping\n",
       "Age_Grouping                                                        \n",
       "Group_1-14    5762  5762  5762  5762              5762          5762\n",
       "Group_15-24   3300  3300  3300  3300              3300          3300\n",
       "Group_25-34   1681  1681  1681  1681              1681          1681\n",
       "Group_35-44   1287  1287  1287  1287              1287          1287\n",
       "Group_45-54   1038  1038  1038  1038              1038          1038\n",
       "Group_55-64    704   704   704   704               704           704\n",
       "Group_65-119   722   722   722   722               722           722\n",
       "outlier          0     0     0     0                 0             0"
      ]
     },
     "execution_count": 19,
     "metadata": {},
     "output_type": "execute_result"
    }
   ],
   "source": [
    "employment_xtics.groupby(['Age_Grouping']).count()"
   ]
  },
  {
   "cell_type": "code",
   "execution_count": 21,
   "id": "83a7af6b",
   "metadata": {},
   "outputs": [
    {
     "data": {
      "text/plain": [
       "count    14494.000000\n",
       "mean        24.652615\n",
       "std         19.120920\n",
       "min          3.000000\n",
       "25%         10.000000\n",
       "50%         18.000000\n",
       "75%         36.000000\n",
       "max        103.000000\n",
       "Name: Age, dtype: float64"
      ]
     },
     "execution_count": 21,
     "metadata": {},
     "output_type": "execute_result"
    }
   ],
   "source": [
    "employment_xtics['Age'].describe()"
   ]
  },
  {
   "cell_type": "code",
   "execution_count": 22,
   "id": "95da3bae",
   "metadata": {},
   "outputs": [],
   "source": [
    "employment_xtics_legal = employment_xtics[employment_xtics['Age'] >= 15]"
   ]
  },
  {
   "cell_type": "code",
   "execution_count": 23,
   "id": "c524c278",
   "metadata": {},
   "outputs": [
    {
     "data": {
      "text/html": [
       "<div>\n",
       "<style scoped>\n",
       "    .dataframe tbody tr th:only-of-type {\n",
       "        vertical-align: middle;\n",
       "    }\n",
       "\n",
       "    .dataframe tbody tr th {\n",
       "        vertical-align: top;\n",
       "    }\n",
       "\n",
       "    .dataframe thead th {\n",
       "        text-align: right;\n",
       "    }\n",
       "</style>\n",
       "<table border=\"1\" class=\"dataframe\">\n",
       "  <thead>\n",
       "    <tr style=\"text-align: right;\">\n",
       "      <th></th>\n",
       "      <th>hhid</th>\n",
       "      <th>PID</th>\n",
       "      <th>Age</th>\n",
       "      <th>Sex</th>\n",
       "      <th>unique_person_id</th>\n",
       "      <th>age_grouping</th>\n",
       "    </tr>\n",
       "    <tr>\n",
       "      <th>Age_Grouping</th>\n",
       "      <th></th>\n",
       "      <th></th>\n",
       "      <th></th>\n",
       "      <th></th>\n",
       "      <th></th>\n",
       "      <th></th>\n",
       "    </tr>\n",
       "  </thead>\n",
       "  <tbody>\n",
       "    <tr>\n",
       "      <th>Group_1-14</th>\n",
       "      <td>0</td>\n",
       "      <td>0</td>\n",
       "      <td>0</td>\n",
       "      <td>0</td>\n",
       "      <td>0</td>\n",
       "      <td>0</td>\n",
       "    </tr>\n",
       "    <tr>\n",
       "      <th>Group_15-24</th>\n",
       "      <td>3300</td>\n",
       "      <td>3300</td>\n",
       "      <td>3300</td>\n",
       "      <td>3300</td>\n",
       "      <td>3300</td>\n",
       "      <td>3300</td>\n",
       "    </tr>\n",
       "    <tr>\n",
       "      <th>Group_25-34</th>\n",
       "      <td>1681</td>\n",
       "      <td>1681</td>\n",
       "      <td>1681</td>\n",
       "      <td>1681</td>\n",
       "      <td>1681</td>\n",
       "      <td>1681</td>\n",
       "    </tr>\n",
       "    <tr>\n",
       "      <th>Group_35-44</th>\n",
       "      <td>1287</td>\n",
       "      <td>1287</td>\n",
       "      <td>1287</td>\n",
       "      <td>1287</td>\n",
       "      <td>1287</td>\n",
       "      <td>1287</td>\n",
       "    </tr>\n",
       "    <tr>\n",
       "      <th>Group_45-54</th>\n",
       "      <td>1038</td>\n",
       "      <td>1038</td>\n",
       "      <td>1038</td>\n",
       "      <td>1038</td>\n",
       "      <td>1038</td>\n",
       "      <td>1038</td>\n",
       "    </tr>\n",
       "    <tr>\n",
       "      <th>Group_55-64</th>\n",
       "      <td>704</td>\n",
       "      <td>704</td>\n",
       "      <td>704</td>\n",
       "      <td>704</td>\n",
       "      <td>704</td>\n",
       "      <td>704</td>\n",
       "    </tr>\n",
       "    <tr>\n",
       "      <th>Group_65-119</th>\n",
       "      <td>722</td>\n",
       "      <td>722</td>\n",
       "      <td>722</td>\n",
       "      <td>722</td>\n",
       "      <td>722</td>\n",
       "      <td>722</td>\n",
       "    </tr>\n",
       "    <tr>\n",
       "      <th>outlier</th>\n",
       "      <td>0</td>\n",
       "      <td>0</td>\n",
       "      <td>0</td>\n",
       "      <td>0</td>\n",
       "      <td>0</td>\n",
       "      <td>0</td>\n",
       "    </tr>\n",
       "  </tbody>\n",
       "</table>\n",
       "</div>"
      ],
      "text/plain": [
       "              hhid   PID   Age   Sex  unique_person_id  age_grouping\n",
       "Age_Grouping                                                        \n",
       "Group_1-14       0     0     0     0                 0             0\n",
       "Group_15-24   3300  3300  3300  3300              3300          3300\n",
       "Group_25-34   1681  1681  1681  1681              1681          1681\n",
       "Group_35-44   1287  1287  1287  1287              1287          1287\n",
       "Group_45-54   1038  1038  1038  1038              1038          1038\n",
       "Group_55-64    704   704   704   704               704           704\n",
       "Group_65-119   722   722   722   722               722           722\n",
       "outlier          0     0     0     0                 0             0"
      ]
     },
     "execution_count": 23,
     "metadata": {},
     "output_type": "execute_result"
    }
   ],
   "source": [
    "employment_xtics_legal.groupby(['Age_Grouping']).count()"
   ]
  },
  {
   "cell_type": "code",
   "execution_count": null,
   "id": "3b1299ac",
   "metadata": {},
   "outputs": [],
   "source": []
  }
 ],
 "metadata": {
  "kernelspec": {
   "display_name": "Python 3 (ipykernel)",
   "language": "python",
   "name": "python3"
  },
  "language_info": {
   "codemirror_mode": {
    "name": "ipython",
    "version": 3
   },
   "file_extension": ".py",
   "mimetype": "text/x-python",
   "name": "python",
   "nbconvert_exporter": "python",
   "pygments_lexer": "ipython3",
   "version": "3.9.16"
  }
 },
 "nbformat": 4,
 "nbformat_minor": 5
}
