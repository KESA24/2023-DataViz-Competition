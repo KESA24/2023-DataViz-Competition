{
 "cells": [
  {
   "cell_type": "code",
   "execution_count": 1,
   "id": "4bf47c0a",
   "metadata": {},
   "outputs": [],
   "source": [
    "import pandas as pd"
   ]
  },
  {
   "cell_type": "code",
   "execution_count": 2,
   "id": "388c18be",
   "metadata": {},
   "outputs": [],
   "source": [
    "raw_data = pd.read_excel('final_analysis_data.xlsx')\n",
    "final_data = pd.read_excel('28-Night-FINAL_DATASET.xlsx')"
   ]
  },
  {
   "cell_type": "code",
   "execution_count": 106,
   "id": "1e8cdde0",
   "metadata": {},
   "outputs": [],
   "source": [
    "weighted_hours = pd.read_excel('Weighted_hours.xlsx')"
   ]
  },
  {
   "cell_type": "code",
   "execution_count": 72,
   "id": "d043c0a3",
   "metadata": {},
   "outputs": [],
   "source": [
    "final_employtics = final_data[['hhid', 'PID', 'h2q3', 'age', 'h2q10', 's8q04', 's8q06', 's8q08', 's8q10', 's8q12',\n",
    "                               'education_levels', 'total_hours', 'hourly_wage', 'monthly_wage', 'numchild', 'gender','lw',\n",
    "                               'sec_cat', 'h8q19b_twoDigit', 'lmw', 'weight']]\n",
    "final_employtics = final_employtics.rename(columns={'h2q3': 'sex', 'h2q10': 'marital_status', 's8q04': 'waged_worker', \n",
    "                                                's8q06': 'business_owner', 's8q08': 'unpaid_hh_worker','s8q10': 'apprentice', \n",
    "                                                's8q12': 'hh_farm_worker','h8q19b_twoDigit': 'ISCO'})"
   ]
  },
  {
   "cell_type": "code",
   "execution_count": 73,
   "id": "25f3590f",
   "metadata": {},
   "outputs": [],
   "source": [
    "def employ_status(row):\n",
    "    if row['waged_worker'] ==1 or  row['business_owner'] == 1 or row['apprentice']==1 or row['unpaid_hh_worker']==1:\n",
    "        return 1\n",
    "    else:\n",
    "        return 0"
   ]
  },
  {
   "cell_type": "code",
   "execution_count": 74,
   "id": "d57d938e",
   "metadata": {},
   "outputs": [
    {
     "data": {
      "text/plain": [
       "(29034, 22)"
      ]
     },
     "execution_count": 74,
     "metadata": {},
     "output_type": "execute_result"
    }
   ],
   "source": [
    "final_employtics['employed'] = final_employtics.apply(lambda row: employ_status(row), axis=1)\n",
    "final_employtics.shape"
   ]
  },
  {
   "cell_type": "code",
   "execution_count": 75,
   "id": "5e2f9dbd",
   "metadata": {},
   "outputs": [],
   "source": [
    "employed_pips = final_employtics[final_employtics['employed']== 1].copy()\n",
    "employed_pips['unique_person_id'] = employed_pips['hhid'].astype(str) + '_' + employed_pips['PID'].astype(str)"
   ]
  },
  {
   "cell_type": "code",
   "execution_count": 102,
   "id": "53b12462",
   "metadata": {},
   "outputs": [],
   "source": [
    "employed_pips_hrs = employed_pips_hrs[['unique_person_id', 'total_hours', 'sex', 'age', 'hourly_wage', 'monthly_wage', 'proportion']].copy()\n",
    "employed_pips_hrs"
   ]
  },
  {
   "cell_type": "code",
   "execution_count": 94,
   "id": "9a2f0b09",
   "metadata": {},
   "outputs": [],
   "source": [
    "employed_pips_hrs_ = employed_pips_hrs.merge(weighted_hours, left_on='total_hours', right_on='hrs', how='outer')"
   ]
  },
  {
   "cell_type": "code",
   "execution_count": 96,
   "id": "c78e52dc",
   "metadata": {},
   "outputs": [
    {
     "data": {
      "text/html": [
       "<div>\n",
       "<style scoped>\n",
       "    .dataframe tbody tr th:only-of-type {\n",
       "        vertical-align: middle;\n",
       "    }\n",
       "\n",
       "    .dataframe tbody tr th {\n",
       "        vertical-align: top;\n",
       "    }\n",
       "\n",
       "    .dataframe thead th {\n",
       "        text-align: right;\n",
       "    }\n",
       "</style>\n",
       "<table border=\"1\" class=\"dataframe\">\n",
       "  <thead>\n",
       "    <tr style=\"text-align: right;\">\n",
       "      <th></th>\n",
       "      <th>unique_person_id</th>\n",
       "      <th>total_hours</th>\n",
       "      <th>sex</th>\n",
       "      <th>age</th>\n",
       "      <th>hourly_wage</th>\n",
       "      <th>monthly_wage</th>\n",
       "      <th>hrs</th>\n",
       "      <th>proportion</th>\n",
       "    </tr>\n",
       "  </thead>\n",
       "  <tbody>\n",
       "    <tr>\n",
       "      <th>0</th>\n",
       "      <td>0007d1f1449242feb5a25429644fb991_2.0</td>\n",
       "      <td>5.0</td>\n",
       "      <td>2.0</td>\n",
       "      <td>24.0</td>\n",
       "      <td>NaN</td>\n",
       "      <td>NaN</td>\n",
       "      <td>5</td>\n",
       "      <td>0.01950</td>\n",
       "    </tr>\n",
       "    <tr>\n",
       "      <th>1</th>\n",
       "      <td>0007d1f1449242feb5a25429644fb991_2.0</td>\n",
       "      <td>5.0</td>\n",
       "      <td>2.0</td>\n",
       "      <td>24.0</td>\n",
       "      <td>NaN</td>\n",
       "      <td>NaN</td>\n",
       "      <td>5</td>\n",
       "      <td>0.01950</td>\n",
       "    </tr>\n",
       "    <tr>\n",
       "      <th>2</th>\n",
       "      <td>024dec2ae5e84e15a9d92dc84c3b5084_1.0</td>\n",
       "      <td>5.0</td>\n",
       "      <td>1.0</td>\n",
       "      <td>44.0</td>\n",
       "      <td>NaN</td>\n",
       "      <td>NaN</td>\n",
       "      <td>5</td>\n",
       "      <td>0.01950</td>\n",
       "    </tr>\n",
       "    <tr>\n",
       "      <th>3</th>\n",
       "      <td>024dec2ae5e84e15a9d92dc84c3b5084_1.0</td>\n",
       "      <td>5.0</td>\n",
       "      <td>1.0</td>\n",
       "      <td>44.0</td>\n",
       "      <td>NaN</td>\n",
       "      <td>NaN</td>\n",
       "      <td>5</td>\n",
       "      <td>0.01950</td>\n",
       "    </tr>\n",
       "    <tr>\n",
       "      <th>4</th>\n",
       "      <td>044116a438c040a898ba43daf6bdc2ea_2.0</td>\n",
       "      <td>5.0</td>\n",
       "      <td>2.0</td>\n",
       "      <td>50.0</td>\n",
       "      <td>NaN</td>\n",
       "      <td>NaN</td>\n",
       "      <td>5</td>\n",
       "      <td>0.01950</td>\n",
       "    </tr>\n",
       "    <tr>\n",
       "      <th>...</th>\n",
       "      <td>...</td>\n",
       "      <td>...</td>\n",
       "      <td>...</td>\n",
       "      <td>...</td>\n",
       "      <td>...</td>\n",
       "      <td>...</td>\n",
       "      <td>...</td>\n",
       "      <td>...</td>\n",
       "    </tr>\n",
       "    <tr>\n",
       "      <th>5935</th>\n",
       "      <td>de413dde36c14865962c2c14ececa013_1.0</td>\n",
       "      <td>72.0</td>\n",
       "      <td>1.0</td>\n",
       "      <td>45.0</td>\n",
       "      <td>2777.777832</td>\n",
       "      <td>800000.0</td>\n",
       "      <td>72</td>\n",
       "      <td>0.00100</td>\n",
       "    </tr>\n",
       "    <tr>\n",
       "      <th>5936</th>\n",
       "      <td>f51ffdd7600f4847883c7bc8f16c9ed7_1.0</td>\n",
       "      <td>72.0</td>\n",
       "      <td>1.0</td>\n",
       "      <td>25.0</td>\n",
       "      <td>NaN</td>\n",
       "      <td>NaN</td>\n",
       "      <td>72</td>\n",
       "      <td>0.00100</td>\n",
       "    </tr>\n",
       "    <tr>\n",
       "      <th>5937</th>\n",
       "      <td>f51ffdd7600f4847883c7bc8f16c9ed7_1.0</td>\n",
       "      <td>72.0</td>\n",
       "      <td>1.0</td>\n",
       "      <td>25.0</td>\n",
       "      <td>NaN</td>\n",
       "      <td>NaN</td>\n",
       "      <td>72</td>\n",
       "      <td>0.00100</td>\n",
       "    </tr>\n",
       "    <tr>\n",
       "      <th>5938</th>\n",
       "      <td>df1267c3b0e340e8b42781223a0d7f39_1.0</td>\n",
       "      <td>100.0</td>\n",
       "      <td>1.0</td>\n",
       "      <td>46.0</td>\n",
       "      <td>NaN</td>\n",
       "      <td>NaN</td>\n",
       "      <td>100</td>\n",
       "      <td>0.00032</td>\n",
       "    </tr>\n",
       "    <tr>\n",
       "      <th>5939</th>\n",
       "      <td>df1267c3b0e340e8b42781223a0d7f39_1.0</td>\n",
       "      <td>100.0</td>\n",
       "      <td>1.0</td>\n",
       "      <td>46.0</td>\n",
       "      <td>NaN</td>\n",
       "      <td>NaN</td>\n",
       "      <td>100</td>\n",
       "      <td>0.00032</td>\n",
       "    </tr>\n",
       "  </tbody>\n",
       "</table>\n",
       "<p>5940 rows × 8 columns</p>\n",
       "</div>"
      ],
      "text/plain": [
       "                          unique_person_id  total_hours  sex   age  \\\n",
       "0     0007d1f1449242feb5a25429644fb991_2.0          5.0  2.0  24.0   \n",
       "1     0007d1f1449242feb5a25429644fb991_2.0          5.0  2.0  24.0   \n",
       "2     024dec2ae5e84e15a9d92dc84c3b5084_1.0          5.0  1.0  44.0   \n",
       "3     024dec2ae5e84e15a9d92dc84c3b5084_1.0          5.0  1.0  44.0   \n",
       "4     044116a438c040a898ba43daf6bdc2ea_2.0          5.0  2.0  50.0   \n",
       "...                                    ...          ...  ...   ...   \n",
       "5935  de413dde36c14865962c2c14ececa013_1.0         72.0  1.0  45.0   \n",
       "5936  f51ffdd7600f4847883c7bc8f16c9ed7_1.0         72.0  1.0  25.0   \n",
       "5937  f51ffdd7600f4847883c7bc8f16c9ed7_1.0         72.0  1.0  25.0   \n",
       "5938  df1267c3b0e340e8b42781223a0d7f39_1.0        100.0  1.0  46.0   \n",
       "5939  df1267c3b0e340e8b42781223a0d7f39_1.0        100.0  1.0  46.0   \n",
       "\n",
       "      hourly_wage  monthly_wage  hrs  proportion  \n",
       "0             NaN           NaN    5     0.01950  \n",
       "1             NaN           NaN    5     0.01950  \n",
       "2             NaN           NaN    5     0.01950  \n",
       "3             NaN           NaN    5     0.01950  \n",
       "4             NaN           NaN    5     0.01950  \n",
       "...           ...           ...  ...         ...  \n",
       "5935  2777.777832      800000.0   72     0.00100  \n",
       "5936          NaN           NaN   72     0.00100  \n",
       "5937          NaN           NaN   72     0.00100  \n",
       "5938          NaN           NaN  100     0.00032  \n",
       "5939          NaN           NaN  100     0.00032  \n",
       "\n",
       "[5940 rows x 8 columns]"
      ]
     },
     "execution_count": 96,
     "metadata": {},
     "output_type": "execute_result"
    }
   ],
   "source": [
    "employed_pips_hrs_"
   ]
  },
  {
   "cell_type": "code",
   "execution_count": 104,
   "id": "e5189678",
   "metadata": {},
   "outputs": [
    {
     "data": {
      "text/html": [
       "<div>\n",
       "<style scoped>\n",
       "    .dataframe tbody tr th:only-of-type {\n",
       "        vertical-align: middle;\n",
       "    }\n",
       "\n",
       "    .dataframe tbody tr th {\n",
       "        vertical-align: top;\n",
       "    }\n",
       "\n",
       "    .dataframe thead th {\n",
       "        text-align: right;\n",
       "    }\n",
       "</style>\n",
       "<table border=\"1\" class=\"dataframe\">\n",
       "  <thead>\n",
       "    <tr style=\"text-align: right;\">\n",
       "      <th></th>\n",
       "      <th>unique_person_id</th>\n",
       "      <th>total_hours</th>\n",
       "      <th>sex</th>\n",
       "      <th>age</th>\n",
       "      <th>hourly_wage</th>\n",
       "      <th>monthly_wage</th>\n",
       "      <th>hrs</th>\n",
       "      <th>proportion</th>\n",
       "      <th>Age_Grouping</th>\n",
       "    </tr>\n",
       "  </thead>\n",
       "  <tbody>\n",
       "    <tr>\n",
       "      <th>0</th>\n",
       "      <td>0007d1f1449242feb5a25429644fb991_2.0</td>\n",
       "      <td>5.0</td>\n",
       "      <td>2.0</td>\n",
       "      <td>24.0</td>\n",
       "      <td>NaN</td>\n",
       "      <td>NaN</td>\n",
       "      <td>5</td>\n",
       "      <td>0.0195</td>\n",
       "      <td>15-24</td>\n",
       "    </tr>\n",
       "    <tr>\n",
       "      <th>1</th>\n",
       "      <td>0007d1f1449242feb5a25429644fb991_2.0</td>\n",
       "      <td>5.0</td>\n",
       "      <td>2.0</td>\n",
       "      <td>24.0</td>\n",
       "      <td>NaN</td>\n",
       "      <td>NaN</td>\n",
       "      <td>5</td>\n",
       "      <td>0.0195</td>\n",
       "      <td>15-24</td>\n",
       "    </tr>\n",
       "  </tbody>\n",
       "</table>\n",
       "</div>"
      ],
      "text/plain": [
       "                       unique_person_id  total_hours  sex   age  hourly_wage  \\\n",
       "0  0007d1f1449242feb5a25429644fb991_2.0          5.0  2.0  24.0          NaN   \n",
       "1  0007d1f1449242feb5a25429644fb991_2.0          5.0  2.0  24.0          NaN   \n",
       "\n",
       "   monthly_wage  hrs  proportion Age_Grouping  \n",
       "0           NaN    5      0.0195        15-24  \n",
       "1           NaN    5      0.0195        15-24  "
      ]
     },
     "execution_count": 104,
     "metadata": {},
     "output_type": "execute_result"
    }
   ],
   "source": [
    "bins= [0,15,25,35,45,55,65, 120]\n",
    "labels = ['1-14','15-24','25-34','35-44','45-54', '55-64', '65-119']\n",
    "employed_pips_hrs_['Age_Grouping'] = pd.cut(employed_pips_hrs_['age'], bins=bins, labels=labels, right=False)\n",
    "employed_pips_hrs_.head(2)"
   ]
  },
  {
   "cell_type": "code",
   "execution_count": 108,
   "id": "d02c36e6",
   "metadata": {},
   "outputs": [],
   "source": [
    "def weighted_average(dataframe, value, weight):\n",
    "    val = dataframe[value]\n",
    "    wt = dataframe[weight]\n",
    "    return (val * wt).sum() / wt.sum()"
   ]
  },
  {
   "cell_type": "code",
   "execution_count": 110,
   "id": "53bdafb3",
   "metadata": {},
   "outputs": [],
   "source": [
    "gender_parting_w = employed_pips_hrs_[['unique_person_id', 'age', 'sex', 'Age_Grouping', 'proportion']].copy()\n",
    "gwg = gender_parting_w.groupby(['Age_Grouping', 'sex']).apply(weighted_average, 'age', 'proportion')"
   ]
  },
  {
   "cell_type": "code",
   "execution_count": 112,
   "id": "296f4b2e",
   "metadata": {},
   "outputs": [],
   "source": [
    "gwg = gwg.reset_index()\n",
    "age_gender = gwg.pivot(index='Age_Grouping', columns='sex', values=0)"
   ]
  },
  {
   "cell_type": "code",
   "execution_count": 113,
   "id": "ad5ba5ac",
   "metadata": {},
   "outputs": [],
   "source": [
    "age_gender = age_gender.reset_index()\n",
    "age_gender =age_gender.rename(columns={1.0 : 'Men', 2.0: 'Women'})"
   ]
  },
  {
   "cell_type": "code",
   "execution_count": 129,
   "id": "9c8e0c88",
   "metadata": {},
   "outputs": [],
   "source": [
    "age_gender['men_perc'] = age_gender['Men']/(age_gender['Men'] + age_gender['Women']) \n",
    "age_gender['women_perc'] = age_gender['Women']/(age_gender['Men'] + age_gender['Women']) \n",
    "age_gender['gender_gap'] = age_gender['men_perc'] - age_gender['women_perc']"
   ]
  },
  {
   "cell_type": "code",
   "execution_count": 130,
   "id": "1ccfc33b",
   "metadata": {},
   "outputs": [
    {
     "data": {
      "text/html": [
       "<div>\n",
       "<style scoped>\n",
       "    .dataframe tbody tr th:only-of-type {\n",
       "        vertical-align: middle;\n",
       "    }\n",
       "\n",
       "    .dataframe tbody tr th {\n",
       "        vertical-align: top;\n",
       "    }\n",
       "\n",
       "    .dataframe thead th {\n",
       "        text-align: right;\n",
       "    }\n",
       "</style>\n",
       "<table border=\"1\" class=\"dataframe\">\n",
       "  <thead>\n",
       "    <tr style=\"text-align: right;\">\n",
       "      <th>sex</th>\n",
       "      <th>Age_Grouping</th>\n",
       "      <th>Men</th>\n",
       "      <th>Women</th>\n",
       "      <th>men_perc</th>\n",
       "      <th>women_perc</th>\n",
       "      <th>gender_gap</th>\n",
       "    </tr>\n",
       "  </thead>\n",
       "  <tbody>\n",
       "    <tr>\n",
       "      <th>0</th>\n",
       "      <td>1-14</td>\n",
       "      <td>12.992180</td>\n",
       "      <td>12.440612</td>\n",
       "      <td>0.510844</td>\n",
       "      <td>0.489156</td>\n",
       "      <td>0.021687</td>\n",
       "    </tr>\n",
       "    <tr>\n",
       "      <th>1</th>\n",
       "      <td>15-24</td>\n",
       "      <td>20.124404</td>\n",
       "      <td>20.662800</td>\n",
       "      <td>0.493400</td>\n",
       "      <td>0.506600</td>\n",
       "      <td>-0.013200</td>\n",
       "    </tr>\n",
       "    <tr>\n",
       "      <th>2</th>\n",
       "      <td>25-34</td>\n",
       "      <td>29.583202</td>\n",
       "      <td>29.096850</td>\n",
       "      <td>0.504144</td>\n",
       "      <td>0.495856</td>\n",
       "      <td>0.008288</td>\n",
       "    </tr>\n",
       "    <tr>\n",
       "      <th>3</th>\n",
       "      <td>35-44</td>\n",
       "      <td>39.401994</td>\n",
       "      <td>39.212026</td>\n",
       "      <td>0.501208</td>\n",
       "      <td>0.498792</td>\n",
       "      <td>0.002416</td>\n",
       "    </tr>\n",
       "    <tr>\n",
       "      <th>4</th>\n",
       "      <td>45-54</td>\n",
       "      <td>48.563562</td>\n",
       "      <td>49.168928</td>\n",
       "      <td>0.496903</td>\n",
       "      <td>0.503097</td>\n",
       "      <td>-0.006194</td>\n",
       "    </tr>\n",
       "    <tr>\n",
       "      <th>5</th>\n",
       "      <td>55-64</td>\n",
       "      <td>58.597476</td>\n",
       "      <td>59.139862</td>\n",
       "      <td>0.497697</td>\n",
       "      <td>0.502303</td>\n",
       "      <td>-0.004607</td>\n",
       "    </tr>\n",
       "    <tr>\n",
       "      <th>6</th>\n",
       "      <td>65-119</td>\n",
       "      <td>71.290353</td>\n",
       "      <td>69.182843</td>\n",
       "      <td>0.507501</td>\n",
       "      <td>0.492499</td>\n",
       "      <td>0.015003</td>\n",
       "    </tr>\n",
       "  </tbody>\n",
       "</table>\n",
       "</div>"
      ],
      "text/plain": [
       "sex Age_Grouping        Men      Women  men_perc  women_perc  gender_gap\n",
       "0           1-14  12.992180  12.440612  0.510844    0.489156    0.021687\n",
       "1          15-24  20.124404  20.662800  0.493400    0.506600   -0.013200\n",
       "2          25-34  29.583202  29.096850  0.504144    0.495856    0.008288\n",
       "3          35-44  39.401994  39.212026  0.501208    0.498792    0.002416\n",
       "4          45-54  48.563562  49.168928  0.496903    0.503097   -0.006194\n",
       "5          55-64  58.597476  59.139862  0.497697    0.502303   -0.004607\n",
       "6         65-119  71.290353  69.182843  0.507501    0.492499    0.015003"
      ]
     },
     "execution_count": 130,
     "metadata": {},
     "output_type": "execute_result"
    }
   ],
   "source": [
    "age_gender"
   ]
  },
  {
   "cell_type": "code",
   "execution_count": 132,
   "id": "db9b8be9",
   "metadata": {},
   "outputs": [
    {
     "data": {
      "text/plain": [
       "<AxesSubplot:xlabel='Age_Grouping'>"
      ]
     },
     "execution_count": 132,
     "metadata": {},
     "output_type": "execute_result"
    },
    {
     "data": {
      "image/png": "[encoded data removed]",
      "text/plain": [
       "<Figure size 1200x800 with 1 Axes>"
      ]
     },
     "metadata": {},
     "output_type": "display_data"
    }
   ],
   "source": [
    "age_gender.plot(x=\"Age_Grouping\", y=[\"men_perc\", \"women_perc\"], kind=\"bar\", figsize=(12,8))"
   ]
  },
  {
   "cell_type": "code",
   "execution_count": 105,
   "id": "a04d8c29",
   "metadata": {},
   "outputs": [
    {
     "data": {
      "text/html": [
       "<div>\n",
       "<style scoped>\n",
       "    .dataframe tbody tr th:only-of-type {\n",
       "        vertical-align: middle;\n",
       "    }\n",
       "\n",
       "    .dataframe tbody tr th {\n",
       "        vertical-align: top;\n",
       "    }\n",
       "\n",
       "    .dataframe thead th {\n",
       "        text-align: right;\n",
       "    }\n",
       "</style>\n",
       "<table border=\"1\" class=\"dataframe\">\n",
       "  <thead>\n",
       "    <tr style=\"text-align: right;\">\n",
       "      <th></th>\n",
       "      <th></th>\n",
       "      <th>unique_person_id</th>\n",
       "    </tr>\n",
       "    <tr>\n",
       "      <th>Age_Grouping</th>\n",
       "      <th>sex</th>\n",
       "      <th></th>\n",
       "    </tr>\n",
       "  </thead>\n",
       "  <tbody>\n",
       "    <tr>\n",
       "      <th rowspan=\"2\" valign=\"top\">1-14</th>\n",
       "      <th>1.0</th>\n",
       "      <td>42</td>\n",
       "    </tr>\n",
       "    <tr>\n",
       "      <th>2.0</th>\n",
       "      <td>70</td>\n",
       "    </tr>\n",
       "    <tr>\n",
       "      <th rowspan=\"2\" valign=\"top\">15-24</th>\n",
       "      <th>1.0</th>\n",
       "      <td>804</td>\n",
       "    </tr>\n",
       "    <tr>\n",
       "      <th>2.0</th>\n",
       "      <td>436</td>\n",
       "    </tr>\n",
       "    <tr>\n",
       "      <th rowspan=\"2\" valign=\"top\">25-34</th>\n",
       "      <th>1.0</th>\n",
       "      <td>962</td>\n",
       "    </tr>\n",
       "    <tr>\n",
       "      <th>2.0</th>\n",
       "      <td>662</td>\n",
       "    </tr>\n",
       "    <tr>\n",
       "      <th rowspan=\"2\" valign=\"top\">35-44</th>\n",
       "      <th>1.0</th>\n",
       "      <td>698</td>\n",
       "    </tr>\n",
       "    <tr>\n",
       "      <th>2.0</th>\n",
       "      <td>616</td>\n",
       "    </tr>\n",
       "    <tr>\n",
       "      <th rowspan=\"2\" valign=\"top\">45-54</th>\n",
       "      <th>1.0</th>\n",
       "      <td>548</td>\n",
       "    </tr>\n",
       "    <tr>\n",
       "      <th>2.0</th>\n",
       "      <td>398</td>\n",
       "    </tr>\n",
       "    <tr>\n",
       "      <th rowspan=\"2\" valign=\"top\">55-64</th>\n",
       "      <th>1.0</th>\n",
       "      <td>260</td>\n",
       "    </tr>\n",
       "    <tr>\n",
       "      <th>2.0</th>\n",
       "      <td>196</td>\n",
       "    </tr>\n",
       "    <tr>\n",
       "      <th rowspan=\"2\" valign=\"top\">65-119</th>\n",
       "      <th>1.0</th>\n",
       "      <td>138</td>\n",
       "    </tr>\n",
       "    <tr>\n",
       "      <th>2.0</th>\n",
       "      <td>110</td>\n",
       "    </tr>\n",
       "  </tbody>\n",
       "</table>\n",
       "</div>"
      ],
      "text/plain": [
       "                  unique_person_id\n",
       "Age_Grouping sex                  \n",
       "1-14         1.0                42\n",
       "             2.0                70\n",
       "15-24        1.0               804\n",
       "             2.0               436\n",
       "25-34        1.0               962\n",
       "             2.0               662\n",
       "35-44        1.0               698\n",
       "             2.0               616\n",
       "45-54        1.0               548\n",
       "             2.0               398\n",
       "55-64        1.0               260\n",
       "             2.0               196\n",
       "65-119       1.0               138\n",
       "             2.0               110"
      ]
     },
     "execution_count": 105,
     "metadata": {},
     "output_type": "execute_result"
    }
   ],
   "source": [
    "gender_parting = employed_pips_hrs_[['unique_person_id', 'age', 'sex', 'Age_Grouping']].copy()\n",
    "gender_parting_age = gender_parting.groupby(['Age_Grouping','sex']).count()[['unique_person_id']]\n",
    "gender_parting_age"
   ]
  },
  {
   "cell_type": "code",
   "execution_count": 17,
   "id": "642b4f51",
   "metadata": {},
   "outputs": [],
   "source": [
    "gender_parting_age = gender_parting_age.reset_index()"
   ]
  },
  {
   "cell_type": "code",
   "execution_count": 18,
   "id": "01dc87d2",
   "metadata": {},
   "outputs": [],
   "source": [
    "gender_age = gender_parting_age.pivot(index='Age_Grouping', columns='sex', values='unique_person_id')"
   ]
  },
  {
   "cell_type": "code",
   "execution_count": 21,
   "id": "036b23f4",
   "metadata": {},
   "outputs": [],
   "source": [
    "gender_age = gender_age.reset_index()\n",
    "gender_age = gender_age.rename(columns={1.0 : 'Men', 2.0: 'Women'})"
   ]
  },
  {
   "cell_type": "code",
   "execution_count": 29,
   "id": "9c2e05ce",
   "metadata": {},
   "outputs": [],
   "source": [
    "gender_age['men_perc'] = gender_age['Men']/(gender_age['Men'] + gender_age['Women']) \n",
    "gender_age['women_perc'] = gender_age['Women']/(gender_age['Men'] + gender_age['Women']) "
   ]
  },
  {
   "cell_type": "code",
   "execution_count": 137,
   "id": "d348ccec",
   "metadata": {},
   "outputs": [
    {
     "data": {
      "text/plain": [
       "<AxesSubplot:title={'center':'Working Gender Age_grouping'}, xlabel='Age_Grouping', ylabel='percentage'>"
      ]
     },
     "execution_count": 137,
     "metadata": {},
     "output_type": "execute_result"
    },
    {
     "data": {
      "image/png": "[encoded data removed]",
      "text/plain": [
       "<Figure size 1000x700 with 1 Axes>"
      ]
     },
     "metadata": {},
     "output_type": "display_data"
    }
   ],
   "source": [
    "gender_age.plot(x=\"Age_Grouping\", y=[\"men_perc\", \"women_perc\"], kind=\"bar\", rot=0, figsize=(10,7), ylabel='percentage', title=('Working Gender Age_grouping'))"
   ]
  },
  {
   "cell_type": "code",
   "execution_count": null,
   "id": "acf05ce1",
   "metadata": {},
   "outputs": [],
   "source": []
  }
 ],
 "metadata": {
  "kernelspec": {
   "display_name": "Python 3 (ipykernel)",
   "language": "python",
   "name": "python3"
  },
  "language_info": {
   "codemirror_mode": {
    "name": "ipython",
    "version": 3
   },
   "file_extension": ".py",
   "mimetype": "text/x-python",
   "name": "python",
   "nbconvert_exporter": "python",
   "pygments_lexer": "ipython3",
   "version": "3.9.16"
  }
 },
 "nbformat": 4,
 "nbformat_minor": 5
}
